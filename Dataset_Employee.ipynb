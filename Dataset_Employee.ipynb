{
  "nbformat": 4,
  "nbformat_minor": 0,
  "metadata": {
    "colab": {
      "name": "Dataset-Employee.ipynb",
      "provenance": [],
      "collapsed_sections": []
    },
    "kernelspec": {
      "name": "python3",
      "display_name": "Python 3"
    }
  },
  "cells": [
    {
      "cell_type": "code",
      "metadata": {
        "id": "kXpFOw85hLLA",
        "colab_type": "code",
        "colab": {
          "base_uri": "https://localhost:8080/",
          "height": 70
        },
        "outputId": "880b69c9-a358-4838-fc0a-f3f9d8d9641b"
      },
      "source": [
        "import numpy as np\n",
        "import pandas as pd\n",
        "import matplotlib.pyplot as plt\n",
        "import seaborn as sns"
      ],
      "execution_count": null,
      "outputs": [
        {
          "output_type": "stream",
          "text": [
            "/usr/local/lib/python3.6/dist-packages/statsmodels/tools/_testing.py:19: FutureWarning: pandas.util.testing is deprecated. Use the functions in the public API at pandas.testing instead.\n",
            "  import pandas.util.testing as tm\n"
          ],
          "name": "stderr"
        }
      ]
    },
    {
      "cell_type": "code",
      "metadata": {
        "id": "ZNmcQSVMhibv",
        "colab_type": "code",
        "colab": {}
      },
      "source": [
        "train = pd.read_csv('Train.csv')\n",
        "test = pd.read_csv('Test.csv')"
      ],
      "execution_count": null,
      "outputs": []
    },
    {
      "cell_type": "code",
      "metadata": {
        "id": "KOjZQd7Jii0H",
        "colab_type": "code",
        "colab": {
          "base_uri": "https://localhost:8080/",
          "height": 249
        },
        "outputId": "e922c4c1-72d0-4ad9-afa6-90fad9650761"
      },
      "source": [
        "train.head()"
      ],
      "execution_count": null,
      "outputs": [
        {
          "output_type": "execute_result",
          "data": {
            "text/html": [
              "<div>\n",
              "<style scoped>\n",
              "    .dataframe tbody tr th:only-of-type {\n",
              "        vertical-align: middle;\n",
              "    }\n",
              "\n",
              "    .dataframe tbody tr th {\n",
              "        vertical-align: top;\n",
              "    }\n",
              "\n",
              "    .dataframe thead th {\n",
              "        text-align: right;\n",
              "    }\n",
              "</style>\n",
              "<table border=\"1\" class=\"dataframe\">\n",
              "  <thead>\n",
              "    <tr style=\"text-align: right;\">\n",
              "      <th></th>\n",
              "      <th>Employee_ID</th>\n",
              "      <th>Gender</th>\n",
              "      <th>Age</th>\n",
              "      <th>Education_Level</th>\n",
              "      <th>Relationship_Status</th>\n",
              "      <th>Hometown</th>\n",
              "      <th>Unit</th>\n",
              "      <th>Decision_skill_possess</th>\n",
              "      <th>Time_of_service</th>\n",
              "      <th>Time_since_promotion</th>\n",
              "      <th>growth_rate</th>\n",
              "      <th>Travel_Rate</th>\n",
              "      <th>Post_Level</th>\n",
              "      <th>Pay_Scale</th>\n",
              "      <th>Compensation_and_Benefits</th>\n",
              "      <th>Work_Life_balance</th>\n",
              "      <th>VAR1</th>\n",
              "      <th>VAR2</th>\n",
              "      <th>VAR3</th>\n",
              "      <th>VAR4</th>\n",
              "      <th>VAR5</th>\n",
              "      <th>VAR6</th>\n",
              "      <th>VAR7</th>\n",
              "      <th>Attrition_rate</th>\n",
              "    </tr>\n",
              "  </thead>\n",
              "  <tbody>\n",
              "    <tr>\n",
              "      <th>0</th>\n",
              "      <td>EID_23371</td>\n",
              "      <td>F</td>\n",
              "      <td>42.0</td>\n",
              "      <td>4</td>\n",
              "      <td>Married</td>\n",
              "      <td>Franklin</td>\n",
              "      <td>IT</td>\n",
              "      <td>Conceptual</td>\n",
              "      <td>4.0</td>\n",
              "      <td>4</td>\n",
              "      <td>33</td>\n",
              "      <td>1</td>\n",
              "      <td>1</td>\n",
              "      <td>7.0</td>\n",
              "      <td>type2</td>\n",
              "      <td>3.0</td>\n",
              "      <td>4</td>\n",
              "      <td>0.7516</td>\n",
              "      <td>1.8688</td>\n",
              "      <td>2.0</td>\n",
              "      <td>4</td>\n",
              "      <td>5</td>\n",
              "      <td>3</td>\n",
              "      <td>0.1841</td>\n",
              "    </tr>\n",
              "    <tr>\n",
              "      <th>1</th>\n",
              "      <td>EID_18000</td>\n",
              "      <td>M</td>\n",
              "      <td>24.0</td>\n",
              "      <td>3</td>\n",
              "      <td>Single</td>\n",
              "      <td>Springfield</td>\n",
              "      <td>Logistics</td>\n",
              "      <td>Analytical</td>\n",
              "      <td>5.0</td>\n",
              "      <td>4</td>\n",
              "      <td>36</td>\n",
              "      <td>0</td>\n",
              "      <td>3</td>\n",
              "      <td>6.0</td>\n",
              "      <td>type2</td>\n",
              "      <td>4.0</td>\n",
              "      <td>3</td>\n",
              "      <td>-0.9612</td>\n",
              "      <td>-0.4537</td>\n",
              "      <td>2.0</td>\n",
              "      <td>3</td>\n",
              "      <td>5</td>\n",
              "      <td>3</td>\n",
              "      <td>0.0670</td>\n",
              "    </tr>\n",
              "    <tr>\n",
              "      <th>2</th>\n",
              "      <td>EID_3891</td>\n",
              "      <td>F</td>\n",
              "      <td>58.0</td>\n",
              "      <td>3</td>\n",
              "      <td>Married</td>\n",
              "      <td>Clinton</td>\n",
              "      <td>Quality</td>\n",
              "      <td>Conceptual</td>\n",
              "      <td>27.0</td>\n",
              "      <td>3</td>\n",
              "      <td>51</td>\n",
              "      <td>0</td>\n",
              "      <td>2</td>\n",
              "      <td>8.0</td>\n",
              "      <td>type2</td>\n",
              "      <td>1.0</td>\n",
              "      <td>4</td>\n",
              "      <td>-0.9612</td>\n",
              "      <td>-0.4537</td>\n",
              "      <td>3.0</td>\n",
              "      <td>3</td>\n",
              "      <td>8</td>\n",
              "      <td>3</td>\n",
              "      <td>0.0851</td>\n",
              "    </tr>\n",
              "    <tr>\n",
              "      <th>3</th>\n",
              "      <td>EID_17492</td>\n",
              "      <td>F</td>\n",
              "      <td>26.0</td>\n",
              "      <td>3</td>\n",
              "      <td>Single</td>\n",
              "      <td>Lebanon</td>\n",
              "      <td>Human Resource Management</td>\n",
              "      <td>Behavioral</td>\n",
              "      <td>4.0</td>\n",
              "      <td>3</td>\n",
              "      <td>56</td>\n",
              "      <td>1</td>\n",
              "      <td>3</td>\n",
              "      <td>8.0</td>\n",
              "      <td>type2</td>\n",
              "      <td>1.0</td>\n",
              "      <td>3</td>\n",
              "      <td>-1.8176</td>\n",
              "      <td>-0.4537</td>\n",
              "      <td>NaN</td>\n",
              "      <td>3</td>\n",
              "      <td>7</td>\n",
              "      <td>3</td>\n",
              "      <td>0.0668</td>\n",
              "    </tr>\n",
              "    <tr>\n",
              "      <th>4</th>\n",
              "      <td>EID_22534</td>\n",
              "      <td>F</td>\n",
              "      <td>31.0</td>\n",
              "      <td>1</td>\n",
              "      <td>Married</td>\n",
              "      <td>Springfield</td>\n",
              "      <td>Logistics</td>\n",
              "      <td>Conceptual</td>\n",
              "      <td>5.0</td>\n",
              "      <td>4</td>\n",
              "      <td>62</td>\n",
              "      <td>1</td>\n",
              "      <td>3</td>\n",
              "      <td>2.0</td>\n",
              "      <td>type3</td>\n",
              "      <td>3.0</td>\n",
              "      <td>1</td>\n",
              "      <td>0.7516</td>\n",
              "      <td>-0.4537</td>\n",
              "      <td>2.0</td>\n",
              "      <td>2</td>\n",
              "      <td>8</td>\n",
              "      <td>2</td>\n",
              "      <td>0.1827</td>\n",
              "    </tr>\n",
              "  </tbody>\n",
              "</table>\n",
              "</div>"
            ],
            "text/plain": [
              "  Employee_ID Gender   Age  Education_Level  ... VAR5 VAR6 VAR7 Attrition_rate\n",
              "0   EID_23371      F  42.0                4  ...    4    5    3         0.1841\n",
              "1   EID_18000      M  24.0                3  ...    3    5    3         0.0670\n",
              "2    EID_3891      F  58.0                3  ...    3    8    3         0.0851\n",
              "3   EID_17492      F  26.0                3  ...    3    7    3         0.0668\n",
              "4   EID_22534      F  31.0                1  ...    2    8    2         0.1827\n",
              "\n",
              "[5 rows x 24 columns]"
            ]
          },
          "metadata": {
            "tags": []
          },
          "execution_count": 3
        }
      ]
    },
    {
      "cell_type": "code",
      "metadata": {
        "id": "hcrOPkPQimUs",
        "colab_type": "code",
        "colab": {
          "base_uri": "https://localhost:8080/",
          "height": 538
        },
        "outputId": "41314d74-6fe1-48f4-af95-065fb50cc1ae"
      },
      "source": [
        "train.info()"
      ],
      "execution_count": null,
      "outputs": [
        {
          "output_type": "stream",
          "text": [
            "<class 'pandas.core.frame.DataFrame'>\n",
            "RangeIndex: 7000 entries, 0 to 6999\n",
            "Data columns (total 24 columns):\n",
            " #   Column                     Non-Null Count  Dtype  \n",
            "---  ------                     --------------  -----  \n",
            " 0   Employee_ID                7000 non-null   object \n",
            " 1   Gender                     7000 non-null   object \n",
            " 2   Age                        6588 non-null   float64\n",
            " 3   Education_Level            7000 non-null   int64  \n",
            " 4   Relationship_Status        7000 non-null   object \n",
            " 5   Hometown                   7000 non-null   object \n",
            " 6   Unit                       7000 non-null   object \n",
            " 7   Decision_skill_possess     7000 non-null   object \n",
            " 8   Time_of_service            6856 non-null   float64\n",
            " 9   Time_since_promotion       7000 non-null   int64  \n",
            " 10  growth_rate                7000 non-null   int64  \n",
            " 11  Travel_Rate                7000 non-null   int64  \n",
            " 12  Post_Level                 7000 non-null   int64  \n",
            " 13  Pay_Scale                  6991 non-null   float64\n",
            " 14  Compensation_and_Benefits  7000 non-null   object \n",
            " 15  Work_Life_balance          6989 non-null   float64\n",
            " 16  VAR1                       7000 non-null   int64  \n",
            " 17  VAR2                       6423 non-null   float64\n",
            " 18  VAR3                       7000 non-null   float64\n",
            " 19  VAR4                       6344 non-null   float64\n",
            " 20  VAR5                       7000 non-null   int64  \n",
            " 21  VAR6                       7000 non-null   int64  \n",
            " 22  VAR7                       7000 non-null   int64  \n",
            " 23  Attrition_rate             7000 non-null   float64\n",
            "dtypes: float64(8), int64(9), object(7)\n",
            "memory usage: 1.3+ MB\n"
          ],
          "name": "stdout"
        }
      ]
    },
    {
      "cell_type": "code",
      "metadata": {
        "id": "OIvL0yRTioE5",
        "colab_type": "code",
        "colab": {
          "base_uri": "https://localhost:8080/",
          "height": 304
        },
        "outputId": "286803a6-676b-4883-e2ea-b5be2268e154"
      },
      "source": [
        "train.describe()"
      ],
      "execution_count": null,
      "outputs": [
        {
          "output_type": "execute_result",
          "data": {
            "text/html": [
              "<div>\n",
              "<style scoped>\n",
              "    .dataframe tbody tr th:only-of-type {\n",
              "        vertical-align: middle;\n",
              "    }\n",
              "\n",
              "    .dataframe tbody tr th {\n",
              "        vertical-align: top;\n",
              "    }\n",
              "\n",
              "    .dataframe thead th {\n",
              "        text-align: right;\n",
              "    }\n",
              "</style>\n",
              "<table border=\"1\" class=\"dataframe\">\n",
              "  <thead>\n",
              "    <tr style=\"text-align: right;\">\n",
              "      <th></th>\n",
              "      <th>Age</th>\n",
              "      <th>Education_Level</th>\n",
              "      <th>Time_of_service</th>\n",
              "      <th>Time_since_promotion</th>\n",
              "      <th>growth_rate</th>\n",
              "      <th>Travel_Rate</th>\n",
              "      <th>Post_Level</th>\n",
              "      <th>Pay_Scale</th>\n",
              "      <th>Work_Life_balance</th>\n",
              "      <th>VAR1</th>\n",
              "      <th>VAR2</th>\n",
              "      <th>VAR3</th>\n",
              "      <th>VAR4</th>\n",
              "      <th>VAR5</th>\n",
              "      <th>VAR6</th>\n",
              "      <th>VAR7</th>\n",
              "      <th>Attrition_rate</th>\n",
              "    </tr>\n",
              "  </thead>\n",
              "  <tbody>\n",
              "    <tr>\n",
              "      <th>count</th>\n",
              "      <td>6588.000000</td>\n",
              "      <td>7000.000000</td>\n",
              "      <td>6856.000000</td>\n",
              "      <td>7000.000000</td>\n",
              "      <td>7000.000000</td>\n",
              "      <td>7000.000000</td>\n",
              "      <td>7000.000000</td>\n",
              "      <td>6991.000000</td>\n",
              "      <td>6989.000000</td>\n",
              "      <td>7000.000000</td>\n",
              "      <td>6423.000000</td>\n",
              "      <td>7000.000000</td>\n",
              "      <td>6344.000000</td>\n",
              "      <td>7000.000000</td>\n",
              "      <td>7000.000000</td>\n",
              "      <td>7000.000000</td>\n",
              "      <td>7000.000000</td>\n",
              "    </tr>\n",
              "    <tr>\n",
              "      <th>mean</th>\n",
              "      <td>39.622799</td>\n",
              "      <td>3.187857</td>\n",
              "      <td>13.385064</td>\n",
              "      <td>2.367143</td>\n",
              "      <td>47.064286</td>\n",
              "      <td>0.817857</td>\n",
              "      <td>2.798000</td>\n",
              "      <td>6.006294</td>\n",
              "      <td>2.387895</td>\n",
              "      <td>3.098571</td>\n",
              "      <td>-0.008126</td>\n",
              "      <td>-0.013606</td>\n",
              "      <td>1.891078</td>\n",
              "      <td>2.834143</td>\n",
              "      <td>7.101286</td>\n",
              "      <td>3.257000</td>\n",
              "      <td>0.189376</td>\n",
              "    </tr>\n",
              "    <tr>\n",
              "      <th>std</th>\n",
              "      <td>13.606920</td>\n",
              "      <td>1.065102</td>\n",
              "      <td>10.364188</td>\n",
              "      <td>1.149395</td>\n",
              "      <td>15.761406</td>\n",
              "      <td>0.648205</td>\n",
              "      <td>1.163721</td>\n",
              "      <td>2.058435</td>\n",
              "      <td>1.122786</td>\n",
              "      <td>0.836377</td>\n",
              "      <td>0.989850</td>\n",
              "      <td>0.986933</td>\n",
              "      <td>0.529403</td>\n",
              "      <td>0.938945</td>\n",
              "      <td>1.164262</td>\n",
              "      <td>0.925319</td>\n",
              "      <td>0.185753</td>\n",
              "    </tr>\n",
              "    <tr>\n",
              "      <th>min</th>\n",
              "      <td>19.000000</td>\n",
              "      <td>1.000000</td>\n",
              "      <td>0.000000</td>\n",
              "      <td>0.000000</td>\n",
              "      <td>20.000000</td>\n",
              "      <td>0.000000</td>\n",
              "      <td>1.000000</td>\n",
              "      <td>1.000000</td>\n",
              "      <td>1.000000</td>\n",
              "      <td>1.000000</td>\n",
              "      <td>-1.817600</td>\n",
              "      <td>-2.776200</td>\n",
              "      <td>1.000000</td>\n",
              "      <td>1.000000</td>\n",
              "      <td>5.000000</td>\n",
              "      <td>1.000000</td>\n",
              "      <td>0.000000</td>\n",
              "    </tr>\n",
              "    <tr>\n",
              "      <th>25%</th>\n",
              "      <td>27.000000</td>\n",
              "      <td>3.000000</td>\n",
              "      <td>5.000000</td>\n",
              "      <td>1.000000</td>\n",
              "      <td>33.000000</td>\n",
              "      <td>0.000000</td>\n",
              "      <td>2.000000</td>\n",
              "      <td>5.000000</td>\n",
              "      <td>1.000000</td>\n",
              "      <td>3.000000</td>\n",
              "      <td>-0.961200</td>\n",
              "      <td>-0.453700</td>\n",
              "      <td>2.000000</td>\n",
              "      <td>2.000000</td>\n",
              "      <td>6.000000</td>\n",
              "      <td>3.000000</td>\n",
              "      <td>0.070400</td>\n",
              "    </tr>\n",
              "    <tr>\n",
              "      <th>50%</th>\n",
              "      <td>37.000000</td>\n",
              "      <td>3.000000</td>\n",
              "      <td>10.000000</td>\n",
              "      <td>2.000000</td>\n",
              "      <td>47.000000</td>\n",
              "      <td>1.000000</td>\n",
              "      <td>3.000000</td>\n",
              "      <td>6.000000</td>\n",
              "      <td>2.000000</td>\n",
              "      <td>3.000000</td>\n",
              "      <td>-0.104800</td>\n",
              "      <td>-0.453700</td>\n",
              "      <td>2.000000</td>\n",
              "      <td>3.000000</td>\n",
              "      <td>7.000000</td>\n",
              "      <td>3.000000</td>\n",
              "      <td>0.142650</td>\n",
              "    </tr>\n",
              "    <tr>\n",
              "      <th>75%</th>\n",
              "      <td>52.000000</td>\n",
              "      <td>4.000000</td>\n",
              "      <td>21.000000</td>\n",
              "      <td>3.000000</td>\n",
              "      <td>61.000000</td>\n",
              "      <td>1.000000</td>\n",
              "      <td>3.000000</td>\n",
              "      <td>8.000000</td>\n",
              "      <td>3.000000</td>\n",
              "      <td>3.000000</td>\n",
              "      <td>0.751600</td>\n",
              "      <td>0.707500</td>\n",
              "      <td>2.000000</td>\n",
              "      <td>3.000000</td>\n",
              "      <td>8.000000</td>\n",
              "      <td>4.000000</td>\n",
              "      <td>0.235000</td>\n",
              "    </tr>\n",
              "    <tr>\n",
              "      <th>max</th>\n",
              "      <td>65.000000</td>\n",
              "      <td>5.000000</td>\n",
              "      <td>43.000000</td>\n",
              "      <td>4.000000</td>\n",
              "      <td>74.000000</td>\n",
              "      <td>2.000000</td>\n",
              "      <td>5.000000</td>\n",
              "      <td>10.000000</td>\n",
              "      <td>5.000000</td>\n",
              "      <td>5.000000</td>\n",
              "      <td>1.608100</td>\n",
              "      <td>1.868800</td>\n",
              "      <td>3.000000</td>\n",
              "      <td>5.000000</td>\n",
              "      <td>9.000000</td>\n",
              "      <td>5.000000</td>\n",
              "      <td>0.995900</td>\n",
              "    </tr>\n",
              "  </tbody>\n",
              "</table>\n",
              "</div>"
            ],
            "text/plain": [
              "               Age  Education_Level  ...         VAR7  Attrition_rate\n",
              "count  6588.000000      7000.000000  ...  7000.000000     7000.000000\n",
              "mean     39.622799         3.187857  ...     3.257000        0.189376\n",
              "std      13.606920         1.065102  ...     0.925319        0.185753\n",
              "min      19.000000         1.000000  ...     1.000000        0.000000\n",
              "25%      27.000000         3.000000  ...     3.000000        0.070400\n",
              "50%      37.000000         3.000000  ...     3.000000        0.142650\n",
              "75%      52.000000         4.000000  ...     4.000000        0.235000\n",
              "max      65.000000         5.000000  ...     5.000000        0.995900\n",
              "\n",
              "[8 rows x 17 columns]"
            ]
          },
          "metadata": {
            "tags": []
          },
          "execution_count": 5
        }
      ]
    },
    {
      "cell_type": "code",
      "metadata": {
        "id": "17bOt2x3irsw",
        "colab_type": "code",
        "colab": {
          "base_uri": "https://localhost:8080/",
          "height": 437
        },
        "outputId": "bff07175-81aa-4e42-d30b-82e650b16f72"
      },
      "source": [
        "train.isnull().sum()"
      ],
      "execution_count": null,
      "outputs": [
        {
          "output_type": "execute_result",
          "data": {
            "text/plain": [
              "Employee_ID                    0\n",
              "Gender                         0\n",
              "Age                          412\n",
              "Education_Level                0\n",
              "Relationship_Status            0\n",
              "Hometown                       0\n",
              "Unit                           0\n",
              "Decision_skill_possess         0\n",
              "Time_of_service              144\n",
              "Time_since_promotion           0\n",
              "growth_rate                    0\n",
              "Travel_Rate                    0\n",
              "Post_Level                     0\n",
              "Pay_Scale                      9\n",
              "Compensation_and_Benefits      0\n",
              "Work_Life_balance             11\n",
              "VAR1                           0\n",
              "VAR2                         577\n",
              "VAR3                           0\n",
              "VAR4                         656\n",
              "VAR5                           0\n",
              "VAR6                           0\n",
              "VAR7                           0\n",
              "Attrition_rate                 0\n",
              "dtype: int64"
            ]
          },
          "metadata": {
            "tags": []
          },
          "execution_count": 6
        }
      ]
    },
    {
      "cell_type": "code",
      "metadata": {
        "id": "iAVA1LExiw_y",
        "colab_type": "code",
        "colab": {}
      },
      "source": [
        "train['Age'] = train['Age'].fillna(train['Age'].mean())\n",
        "train['Time_of_service'] = train['Time_of_service'].fillna(train['Time_of_service'].mean())\n",
        "train['Pay_Scale'] = train['Pay_Scale'].fillna(train['Pay_Scale'].mean())\n",
        "train['Work_Life_balance'] = train['Work_Life_balance'].fillna(train['Work_Life_balance'].mean())\n",
        "train['VAR2'] = train['VAR2'].fillna(train['VAR2'].mean())\n",
        "train['VAR4'] = train['VAR4'].fillna(train['VAR4'].mean())"
      ],
      "execution_count": null,
      "outputs": []
    },
    {
      "cell_type": "code",
      "metadata": {
        "id": "bzRIDLz8jrZA",
        "colab_type": "code",
        "colab": {
          "base_uri": "https://localhost:8080/",
          "height": 437
        },
        "outputId": "a39be79f-cf94-40c6-fb0e-54b057213a40"
      },
      "source": [
        "train.isnull().sum()"
      ],
      "execution_count": null,
      "outputs": [
        {
          "output_type": "execute_result",
          "data": {
            "text/plain": [
              "Employee_ID                  0\n",
              "Gender                       0\n",
              "Age                          0\n",
              "Education_Level              0\n",
              "Relationship_Status          0\n",
              "Hometown                     0\n",
              "Unit                         0\n",
              "Decision_skill_possess       0\n",
              "Time_of_service              0\n",
              "Time_since_promotion         0\n",
              "growth_rate                  0\n",
              "Travel_Rate                  0\n",
              "Post_Level                   0\n",
              "Pay_Scale                    0\n",
              "Compensation_and_Benefits    0\n",
              "Work_Life_balance            0\n",
              "VAR1                         0\n",
              "VAR2                         0\n",
              "VAR3                         0\n",
              "VAR4                         0\n",
              "VAR5                         0\n",
              "VAR6                         0\n",
              "VAR7                         0\n",
              "Attrition_rate               0\n",
              "dtype: int64"
            ]
          },
          "metadata": {
            "tags": []
          },
          "execution_count": 8
        }
      ]
    },
    {
      "cell_type": "code",
      "metadata": {
        "id": "PvsBZ7CejuLA",
        "colab_type": "code",
        "colab": {
          "base_uri": "https://localhost:8080/",
          "height": 458
        },
        "outputId": "e71fa19d-79f4-421c-e83d-0928adff4fbf"
      },
      "source": [
        "sns.jointplot(x='Age',y='Attrition_rate',data=train)"
      ],
      "execution_count": null,
      "outputs": [
        {
          "output_type": "execute_result",
          "data": {
            "text/plain": [
              "<seaborn.axisgrid.JointGrid at 0x7f5851675d68>"
            ]
          },
          "metadata": {
            "tags": []
          },
          "execution_count": 9
        },
        {
          "output_type": "display_data",
          "data": {
            "image/png": "[encoded data removed]",
            "text/plain": [
              "<Figure size 432x432 with 3 Axes>"
            ]
          },
          "metadata": {
            "tags": [],
            "needs_background": "light"
          }
        }
      ]
    },
    {
      "cell_type": "code",
      "metadata": {
        "id": "L4DQN0Taj3RU",
        "colab_type": "code",
        "colab": {
          "base_uri": "https://localhost:8080/",
          "height": 538
        },
        "outputId": "87e27067-dc31-4d31-ffa1-faed43fba5e7"
      },
      "source": [
        "train.info()"
      ],
      "execution_count": null,
      "outputs": [
        {
          "output_type": "stream",
          "text": [
            "<class 'pandas.core.frame.DataFrame'>\n",
            "RangeIndex: 7000 entries, 0 to 6999\n",
            "Data columns (total 24 columns):\n",
            " #   Column                     Non-Null Count  Dtype  \n",
            "---  ------                     --------------  -----  \n",
            " 0   Employee_ID                7000 non-null   object \n",
            " 1   Gender                     7000 non-null   object \n",
            " 2   Age                        7000 non-null   float64\n",
            " 3   Education_Level            7000 non-null   int64  \n",
            " 4   Relationship_Status        7000 non-null   object \n",
            " 5   Hometown                   7000 non-null   object \n",
            " 6   Unit                       7000 non-null   object \n",
            " 7   Decision_skill_possess     7000 non-null   object \n",
            " 8   Time_of_service            7000 non-null   float64\n",
            " 9   Time_since_promotion       7000 non-null   int64  \n",
            " 10  growth_rate                7000 non-null   int64  \n",
            " 11  Travel_Rate                7000 non-null   int64  \n",
            " 12  Post_Level                 7000 non-null   int64  \n",
            " 13  Pay_Scale                  7000 non-null   float64\n",
            " 14  Compensation_and_Benefits  7000 non-null   object \n",
            " 15  Work_Life_balance          7000 non-null   float64\n",
            " 16  VAR1                       7000 non-null   int64  \n",
            " 17  VAR2                       7000 non-null   float64\n",
            " 18  VAR3                       7000 non-null   float64\n",
            " 19  VAR4                       7000 non-null   float64\n",
            " 20  VAR5                       7000 non-null   int64  \n",
            " 21  VAR6                       7000 non-null   int64  \n",
            " 22  VAR7                       7000 non-null   int64  \n",
            " 23  Attrition_rate             7000 non-null   float64\n",
            "dtypes: float64(8), int64(9), object(7)\n",
            "memory usage: 1.3+ MB\n"
          ],
          "name": "stdout"
        }
      ]
    },
    {
      "cell_type": "code",
      "metadata": {
        "id": "0lijauN_l5Zq",
        "colab_type": "code",
        "colab": {
          "base_uri": "https://localhost:8080/",
          "height": 67
        },
        "outputId": "942c46d6-a73a-454d-84a0-b5a315923be7"
      },
      "source": [
        "train['Gender'].value_counts()"
      ],
      "execution_count": null,
      "outputs": [
        {
          "output_type": "execute_result",
          "data": {
            "text/plain": [
              "F    4114\n",
              "M    2886\n",
              "Name: Gender, dtype: int64"
            ]
          },
          "metadata": {
            "tags": []
          },
          "execution_count": 11
        }
      ]
    },
    {
      "cell_type": "code",
      "metadata": {
        "id": "EdOXc4_YmBKT",
        "colab_type": "code",
        "colab": {
          "base_uri": "https://localhost:8080/",
          "height": 67
        },
        "outputId": "c1f0cfbc-46eb-4bb6-f192-c134680c668d"
      },
      "source": [
        "train['Relationship_Status'].value_counts()"
      ],
      "execution_count": null,
      "outputs": [
        {
          "output_type": "execute_result",
          "data": {
            "text/plain": [
              "Married    4520\n",
              "Single     2480\n",
              "Name: Relationship_Status, dtype: int64"
            ]
          },
          "metadata": {
            "tags": []
          },
          "execution_count": 12
        }
      ]
    },
    {
      "cell_type": "code",
      "metadata": {
        "id": "HUhiMokqmJDj",
        "colab_type": "code",
        "colab": {
          "base_uri": "https://localhost:8080/",
          "height": 118
        },
        "outputId": "c4849901-a13e-49e0-f73f-ed2239d8a48e"
      },
      "source": [
        "train['Hometown'].value_counts()"
      ],
      "execution_count": null,
      "outputs": [
        {
          "output_type": "execute_result",
          "data": {
            "text/plain": [
              "Lebanon        2070\n",
              "Springfield    1736\n",
              "Franklin       1523\n",
              "Washington     1106\n",
              "Clinton         565\n",
              "Name: Hometown, dtype: int64"
            ]
          },
          "metadata": {
            "tags": []
          },
          "execution_count": 13
        }
      ]
    },
    {
      "cell_type": "code",
      "metadata": {
        "id": "OAfM7CjqmNfZ",
        "colab_type": "code",
        "colab": {
          "base_uri": "https://localhost:8080/",
          "height": 235
        },
        "outputId": "3b8cc5da-ff64-4eef-ed98-9d14dd208681"
      },
      "source": [
        "train['Unit'].value_counts()"
      ],
      "execution_count": null,
      "outputs": [
        {
          "output_type": "execute_result",
          "data": {
            "text/plain": [
              "IT                           1394\n",
              "Logistics                    1173\n",
              "Sales                         943\n",
              "Operarions                    706\n",
              "R&D                           680\n",
              "Purchasing                    504\n",
              "Accounting and Finance        496\n",
              "Human Resource Management     344\n",
              "Marketing                     212\n",
              "Production                    211\n",
              "Quality                       193\n",
              "Security                      144\n",
              "Name: Unit, dtype: int64"
            ]
          },
          "metadata": {
            "tags": []
          },
          "execution_count": 14
        }
      ]
    },
    {
      "cell_type": "code",
      "metadata": {
        "id": "GRF2m9DamThb",
        "colab_type": "code",
        "colab": {
          "base_uri": "https://localhost:8080/",
          "height": 101
        },
        "outputId": "9d4287fb-919b-44a0-b703-e8d8a962f574"
      },
      "source": [
        "train['Decision_skill_possess'].value_counts()"
      ],
      "execution_count": null,
      "outputs": [
        {
          "output_type": "execute_result",
          "data": {
            "text/plain": [
              "Conceptual    1756\n",
              "Analytical    1755\n",
              "Directive     1753\n",
              "Behavioral    1736\n",
              "Name: Decision_skill_possess, dtype: int64"
            ]
          },
          "metadata": {
            "tags": []
          },
          "execution_count": 15
        }
      ]
    },
    {
      "cell_type": "code",
      "metadata": {
        "id": "f-w9MBeKmrhB",
        "colab_type": "code",
        "colab": {
          "base_uri": "https://localhost:8080/",
          "height": 118
        },
        "outputId": "14b2c327-3c97-49b4-95da-7deab1bb4958"
      },
      "source": [
        "train['Compensation_and_Benefits'].value_counts()"
      ],
      "execution_count": null,
      "outputs": [
        {
          "output_type": "execute_result",
          "data": {
            "text/plain": [
              "type2    3945\n",
              "type3    2382\n",
              "type4     353\n",
              "type0     187\n",
              "type1     133\n",
              "Name: Compensation_and_Benefits, dtype: int64"
            ]
          },
          "metadata": {
            "tags": []
          },
          "execution_count": 16
        }
      ]
    },
    {
      "cell_type": "code",
      "metadata": {
        "id": "7Uz2lhuBm7p2",
        "colab_type": "code",
        "colab": {}
      },
      "source": [
        "gender = pd.get_dummies(train['Gender'],drop_first=True)\n",
        "status = pd.get_dummies(train['Relationship_Status'],drop_first=True)\n",
        "hometown = pd.get_dummies(train['Hometown'],drop_first=True)\n",
        "unit = pd.get_dummies(train['Unit'],drop_first=True)\n",
        "skill = pd.get_dummies(train['Decision_skill_possess'],drop_first=True)\n",
        "benefits = pd.get_dummies(train['Compensation_and_Benefits'],drop_first=True)"
      ],
      "execution_count": null,
      "outputs": []
    },
    {
      "cell_type": "code",
      "metadata": {
        "id": "2SITPvyhpYsr",
        "colab_type": "code",
        "colab": {}
      },
      "source": [
        "train.drop(['Gender','Relationship_Status','Hometown','Unit','Decision_skill_possess','Compensation_and_Benefits'],inplace=True,axis=1)"
      ],
      "execution_count": null,
      "outputs": []
    },
    {
      "cell_type": "code",
      "metadata": {
        "id": "tXMI8anZp42B",
        "colab_type": "code",
        "colab": {}
      },
      "source": [
        "train = pd.concat([train,gender,status,hometown,unit,skill,benefits],axis=1)"
      ],
      "execution_count": null,
      "outputs": []
    },
    {
      "cell_type": "code",
      "metadata": {
        "id": "SGez4pfbqUtC",
        "colab_type": "code",
        "colab": {
          "base_uri": "https://localhost:8080/",
          "height": 249
        },
        "outputId": "ff6eccb1-82cd-4ea8-e61b-be439823627b"
      },
      "source": [
        "train.head()"
      ],
      "execution_count": null,
      "outputs": [
        {
          "output_type": "execute_result",
          "data": {
            "text/html": [
              "<div>\n",
              "<style scoped>\n",
              "    .dataframe tbody tr th:only-of-type {\n",
              "        vertical-align: middle;\n",
              "    }\n",
              "\n",
              "    .dataframe tbody tr th {\n",
              "        vertical-align: top;\n",
              "    }\n",
              "\n",
              "    .dataframe thead th {\n",
              "        text-align: right;\n",
              "    }\n",
              "</style>\n",
              "<table border=\"1\" class=\"dataframe\">\n",
              "  <thead>\n",
              "    <tr style=\"text-align: right;\">\n",
              "      <th></th>\n",
              "      <th>Employee_ID</th>\n",
              "      <th>Age</th>\n",
              "      <th>Education_Level</th>\n",
              "      <th>Time_of_service</th>\n",
              "      <th>Time_since_promotion</th>\n",
              "      <th>growth_rate</th>\n",
              "      <th>Travel_Rate</th>\n",
              "      <th>Post_Level</th>\n",
              "      <th>Pay_Scale</th>\n",
              "      <th>Work_Life_balance</th>\n",
              "      <th>VAR1</th>\n",
              "      <th>VAR2</th>\n",
              "      <th>VAR3</th>\n",
              "      <th>VAR4</th>\n",
              "      <th>VAR5</th>\n",
              "      <th>VAR6</th>\n",
              "      <th>VAR7</th>\n",
              "      <th>Attrition_rate</th>\n",
              "      <th>M</th>\n",
              "      <th>Single</th>\n",
              "      <th>Franklin</th>\n",
              "      <th>Lebanon</th>\n",
              "      <th>Springfield</th>\n",
              "      <th>Washington</th>\n",
              "      <th>Human Resource Management</th>\n",
              "      <th>IT</th>\n",
              "      <th>Logistics</th>\n",
              "      <th>Marketing</th>\n",
              "      <th>Operarions</th>\n",
              "      <th>Production</th>\n",
              "      <th>Purchasing</th>\n",
              "      <th>Quality</th>\n",
              "      <th>R&amp;D</th>\n",
              "      <th>Sales</th>\n",
              "      <th>Security</th>\n",
              "      <th>Behavioral</th>\n",
              "      <th>Conceptual</th>\n",
              "      <th>Directive</th>\n",
              "      <th>type1</th>\n",
              "      <th>type2</th>\n",
              "      <th>type3</th>\n",
              "      <th>type4</th>\n",
              "    </tr>\n",
              "  </thead>\n",
              "  <tbody>\n",
              "    <tr>\n",
              "      <th>0</th>\n",
              "      <td>EID_23371</td>\n",
              "      <td>42.0</td>\n",
              "      <td>4</td>\n",
              "      <td>4.0</td>\n",
              "      <td>4</td>\n",
              "      <td>33</td>\n",
              "      <td>1</td>\n",
              "      <td>1</td>\n",
              "      <td>7.0</td>\n",
              "      <td>3.0</td>\n",
              "      <td>4</td>\n",
              "      <td>0.7516</td>\n",
              "      <td>1.8688</td>\n",
              "      <td>2.000000</td>\n",
              "      <td>4</td>\n",
              "      <td>5</td>\n",
              "      <td>3</td>\n",
              "      <td>0.1841</td>\n",
              "      <td>0</td>\n",
              "      <td>0</td>\n",
              "      <td>1</td>\n",
              "      <td>0</td>\n",
              "      <td>0</td>\n",
              "      <td>0</td>\n",
              "      <td>0</td>\n",
              "      <td>1</td>\n",
              "      <td>0</td>\n",
              "      <td>0</td>\n",
              "      <td>0</td>\n",
              "      <td>0</td>\n",
              "      <td>0</td>\n",
              "      <td>0</td>\n",
              "      <td>0</td>\n",
              "      <td>0</td>\n",
              "      <td>0</td>\n",
              "      <td>0</td>\n",
              "      <td>1</td>\n",
              "      <td>0</td>\n",
              "      <td>0</td>\n",
              "      <td>1</td>\n",
              "      <td>0</td>\n",
              "      <td>0</td>\n",
              "    </tr>\n",
              "    <tr>\n",
              "      <th>1</th>\n",
              "      <td>EID_18000</td>\n",
              "      <td>24.0</td>\n",
              "      <td>3</td>\n",
              "      <td>5.0</td>\n",
              "      <td>4</td>\n",
              "      <td>36</td>\n",
              "      <td>0</td>\n",
              "      <td>3</td>\n",
              "      <td>6.0</td>\n",
              "      <td>4.0</td>\n",
              "      <td>3</td>\n",
              "      <td>-0.9612</td>\n",
              "      <td>-0.4537</td>\n",
              "      <td>2.000000</td>\n",
              "      <td>3</td>\n",
              "      <td>5</td>\n",
              "      <td>3</td>\n",
              "      <td>0.0670</td>\n",
              "      <td>1</td>\n",
              "      <td>1</td>\n",
              "      <td>0</td>\n",
              "      <td>0</td>\n",
              "      <td>1</td>\n",
              "      <td>0</td>\n",
              "      <td>0</td>\n",
              "      <td>0</td>\n",
              "      <td>1</td>\n",
              "      <td>0</td>\n",
              "      <td>0</td>\n",
              "      <td>0</td>\n",
              "      <td>0</td>\n",
              "      <td>0</td>\n",
              "      <td>0</td>\n",
              "      <td>0</td>\n",
              "      <td>0</td>\n",
              "      <td>0</td>\n",
              "      <td>0</td>\n",
              "      <td>0</td>\n",
              "      <td>0</td>\n",
              "      <td>1</td>\n",
              "      <td>0</td>\n",
              "      <td>0</td>\n",
              "    </tr>\n",
              "    <tr>\n",
              "      <th>2</th>\n",
              "      <td>EID_3891</td>\n",
              "      <td>58.0</td>\n",
              "      <td>3</td>\n",
              "      <td>27.0</td>\n",
              "      <td>3</td>\n",
              "      <td>51</td>\n",
              "      <td>0</td>\n",
              "      <td>2</td>\n",
              "      <td>8.0</td>\n",
              "      <td>1.0</td>\n",
              "      <td>4</td>\n",
              "      <td>-0.9612</td>\n",
              "      <td>-0.4537</td>\n",
              "      <td>3.000000</td>\n",
              "      <td>3</td>\n",
              "      <td>8</td>\n",
              "      <td>3</td>\n",
              "      <td>0.0851</td>\n",
              "      <td>0</td>\n",
              "      <td>0</td>\n",
              "      <td>0</td>\n",
              "      <td>0</td>\n",
              "      <td>0</td>\n",
              "      <td>0</td>\n",
              "      <td>0</td>\n",
              "      <td>0</td>\n",
              "      <td>0</td>\n",
              "      <td>0</td>\n",
              "      <td>0</td>\n",
              "      <td>0</td>\n",
              "      <td>0</td>\n",
              "      <td>1</td>\n",
              "      <td>0</td>\n",
              "      <td>0</td>\n",
              "      <td>0</td>\n",
              "      <td>0</td>\n",
              "      <td>1</td>\n",
              "      <td>0</td>\n",
              "      <td>0</td>\n",
              "      <td>1</td>\n",
              "      <td>0</td>\n",
              "      <td>0</td>\n",
              "    </tr>\n",
              "    <tr>\n",
              "      <th>3</th>\n",
              "      <td>EID_17492</td>\n",
              "      <td>26.0</td>\n",
              "      <td>3</td>\n",
              "      <td>4.0</td>\n",
              "      <td>3</td>\n",
              "      <td>56</td>\n",
              "      <td>1</td>\n",
              "      <td>3</td>\n",
              "      <td>8.0</td>\n",
              "      <td>1.0</td>\n",
              "      <td>3</td>\n",
              "      <td>-1.8176</td>\n",
              "      <td>-0.4537</td>\n",
              "      <td>1.891078</td>\n",
              "      <td>3</td>\n",
              "      <td>7</td>\n",
              "      <td>3</td>\n",
              "      <td>0.0668</td>\n",
              "      <td>0</td>\n",
              "      <td>1</td>\n",
              "      <td>0</td>\n",
              "      <td>1</td>\n",
              "      <td>0</td>\n",
              "      <td>0</td>\n",
              "      <td>1</td>\n",
              "      <td>0</td>\n",
              "      <td>0</td>\n",
              "      <td>0</td>\n",
              "      <td>0</td>\n",
              "      <td>0</td>\n",
              "      <td>0</td>\n",
              "      <td>0</td>\n",
              "      <td>0</td>\n",
              "      <td>0</td>\n",
              "      <td>0</td>\n",
              "      <td>1</td>\n",
              "      <td>0</td>\n",
              "      <td>0</td>\n",
              "      <td>0</td>\n",
              "      <td>1</td>\n",
              "      <td>0</td>\n",
              "      <td>0</td>\n",
              "    </tr>\n",
              "    <tr>\n",
              "      <th>4</th>\n",
              "      <td>EID_22534</td>\n",
              "      <td>31.0</td>\n",
              "      <td>1</td>\n",
              "      <td>5.0</td>\n",
              "      <td>4</td>\n",
              "      <td>62</td>\n",
              "      <td>1</td>\n",
              "      <td>3</td>\n",
              "      <td>2.0</td>\n",
              "      <td>3.0</td>\n",
              "      <td>1</td>\n",
              "      <td>0.7516</td>\n",
              "      <td>-0.4537</td>\n",
              "      <td>2.000000</td>\n",
              "      <td>2</td>\n",
              "      <td>8</td>\n",
              "      <td>2</td>\n",
              "      <td>0.1827</td>\n",
              "      <td>0</td>\n",
              "      <td>0</td>\n",
              "      <td>0</td>\n",
              "      <td>0</td>\n",
              "      <td>1</td>\n",
              "      <td>0</td>\n",
              "      <td>0</td>\n",
              "      <td>0</td>\n",
              "      <td>1</td>\n",
              "      <td>0</td>\n",
              "      <td>0</td>\n",
              "      <td>0</td>\n",
              "      <td>0</td>\n",
              "      <td>0</td>\n",
              "      <td>0</td>\n",
              "      <td>0</td>\n",
              "      <td>0</td>\n",
              "      <td>0</td>\n",
              "      <td>1</td>\n",
              "      <td>0</td>\n",
              "      <td>0</td>\n",
              "      <td>0</td>\n",
              "      <td>1</td>\n",
              "      <td>0</td>\n",
              "    </tr>\n",
              "  </tbody>\n",
              "</table>\n",
              "</div>"
            ],
            "text/plain": [
              "  Employee_ID   Age  Education_Level  ...  type2  type3  type4\n",
              "0   EID_23371  42.0                4  ...      1      0      0\n",
              "1   EID_18000  24.0                3  ...      1      0      0\n",
              "2    EID_3891  58.0                3  ...      1      0      0\n",
              "3   EID_17492  26.0                3  ...      1      0      0\n",
              "4   EID_22534  31.0                1  ...      0      1      0\n",
              "\n",
              "[5 rows x 42 columns]"
            ]
          },
          "metadata": {
            "tags": []
          },
          "execution_count": 20
        }
      ]
    },
    {
      "cell_type": "code",
      "metadata": {
        "id": "tVKUU4V5qWk4",
        "colab_type": "code",
        "colab": {}
      },
      "source": [
        "train.drop('Employee_ID',inplace=True,axis=1)"
      ],
      "execution_count": null,
      "outputs": []
    },
    {
      "cell_type": "code",
      "metadata": {
        "id": "P8eUV7T3qpfS",
        "colab_type": "code",
        "colab": {
          "base_uri": "https://localhost:8080/",
          "height": 249
        },
        "outputId": "581e94b7-8d5d-4649-84c8-50028b286280"
      },
      "source": [
        "train.head()"
      ],
      "execution_count": null,
      "outputs": [
        {
          "output_type": "execute_result",
          "data": {
            "text/html": [
              "<div>\n",
              "<style scoped>\n",
              "    .dataframe tbody tr th:only-of-type {\n",
              "        vertical-align: middle;\n",
              "    }\n",
              "\n",
              "    .dataframe tbody tr th {\n",
              "        vertical-align: top;\n",
              "    }\n",
              "\n",
              "    .dataframe thead th {\n",
              "        text-align: right;\n",
              "    }\n",
              "</style>\n",
              "<table border=\"1\" class=\"dataframe\">\n",
              "  <thead>\n",
              "    <tr style=\"text-align: right;\">\n",
              "      <th></th>\n",
              "      <th>Age</th>\n",
              "      <th>Education_Level</th>\n",
              "      <th>Time_of_service</th>\n",
              "      <th>Time_since_promotion</th>\n",
              "      <th>growth_rate</th>\n",
              "      <th>Travel_Rate</th>\n",
              "      <th>Post_Level</th>\n",
              "      <th>Pay_Scale</th>\n",
              "      <th>Work_Life_balance</th>\n",
              "      <th>VAR1</th>\n",
              "      <th>VAR2</th>\n",
              "      <th>VAR3</th>\n",
              "      <th>VAR4</th>\n",
              "      <th>VAR5</th>\n",
              "      <th>VAR6</th>\n",
              "      <th>VAR7</th>\n",
              "      <th>Attrition_rate</th>\n",
              "      <th>M</th>\n",
              "      <th>Single</th>\n",
              "      <th>Franklin</th>\n",
              "      <th>Lebanon</th>\n",
              "      <th>Springfield</th>\n",
              "      <th>Washington</th>\n",
              "      <th>Human Resource Management</th>\n",
              "      <th>IT</th>\n",
              "      <th>Logistics</th>\n",
              "      <th>Marketing</th>\n",
              "      <th>Operarions</th>\n",
              "      <th>Production</th>\n",
              "      <th>Purchasing</th>\n",
              "      <th>Quality</th>\n",
              "      <th>R&amp;D</th>\n",
              "      <th>Sales</th>\n",
              "      <th>Security</th>\n",
              "      <th>Behavioral</th>\n",
              "      <th>Conceptual</th>\n",
              "      <th>Directive</th>\n",
              "      <th>type1</th>\n",
              "      <th>type2</th>\n",
              "      <th>type3</th>\n",
              "      <th>type4</th>\n",
              "    </tr>\n",
              "  </thead>\n",
              "  <tbody>\n",
              "    <tr>\n",
              "      <th>0</th>\n",
              "      <td>42.0</td>\n",
              "      <td>4</td>\n",
              "      <td>4.0</td>\n",
              "      <td>4</td>\n",
              "      <td>33</td>\n",
              "      <td>1</td>\n",
              "      <td>1</td>\n",
              "      <td>7.0</td>\n",
              "      <td>3.0</td>\n",
              "      <td>4</td>\n",
              "      <td>0.7516</td>\n",
              "      <td>1.8688</td>\n",
              "      <td>2.000000</td>\n",
              "      <td>4</td>\n",
              "      <td>5</td>\n",
              "      <td>3</td>\n",
              "      <td>0.1841</td>\n",
              "      <td>0</td>\n",
              "      <td>0</td>\n",
              "      <td>1</td>\n",
              "      <td>0</td>\n",
              "      <td>0</td>\n",
              "      <td>0</td>\n",
              "      <td>0</td>\n",
              "      <td>1</td>\n",
              "      <td>0</td>\n",
              "      <td>0</td>\n",
              "      <td>0</td>\n",
              "      <td>0</td>\n",
              "      <td>0</td>\n",
              "      <td>0</td>\n",
              "      <td>0</td>\n",
              "      <td>0</td>\n",
              "      <td>0</td>\n",
              "      <td>0</td>\n",
              "      <td>1</td>\n",
              "      <td>0</td>\n",
              "      <td>0</td>\n",
              "      <td>1</td>\n",
              "      <td>0</td>\n",
              "      <td>0</td>\n",
              "    </tr>\n",
              "    <tr>\n",
              "      <th>1</th>\n",
              "      <td>24.0</td>\n",
              "      <td>3</td>\n",
              "      <td>5.0</td>\n",
              "      <td>4</td>\n",
              "      <td>36</td>\n",
              "      <td>0</td>\n",
              "      <td>3</td>\n",
              "      <td>6.0</td>\n",
              "      <td>4.0</td>\n",
              "      <td>3</td>\n",
              "      <td>-0.9612</td>\n",
              "      <td>-0.4537</td>\n",
              "      <td>2.000000</td>\n",
              "      <td>3</td>\n",
              "      <td>5</td>\n",
              "      <td>3</td>\n",
              "      <td>0.0670</td>\n",
              "      <td>1</td>\n",
              "      <td>1</td>\n",
              "      <td>0</td>\n",
              "      <td>0</td>\n",
              "      <td>1</td>\n",
              "      <td>0</td>\n",
              "      <td>0</td>\n",
              "      <td>0</td>\n",
              "      <td>1</td>\n",
              "      <td>0</td>\n",
              "      <td>0</td>\n",
              "      <td>0</td>\n",
              "      <td>0</td>\n",
              "      <td>0</td>\n",
              "      <td>0</td>\n",
              "      <td>0</td>\n",
              "      <td>0</td>\n",
              "      <td>0</td>\n",
              "      <td>0</td>\n",
              "      <td>0</td>\n",
              "      <td>0</td>\n",
              "      <td>1</td>\n",
              "      <td>0</td>\n",
              "      <td>0</td>\n",
              "    </tr>\n",
              "    <tr>\n",
              "      <th>2</th>\n",
              "      <td>58.0</td>\n",
              "      <td>3</td>\n",
              "      <td>27.0</td>\n",
              "      <td>3</td>\n",
              "      <td>51</td>\n",
              "      <td>0</td>\n",
              "      <td>2</td>\n",
              "      <td>8.0</td>\n",
              "      <td>1.0</td>\n",
              "      <td>4</td>\n",
              "      <td>-0.9612</td>\n",
              "      <td>-0.4537</td>\n",
              "      <td>3.000000</td>\n",
              "      <td>3</td>\n",
              "      <td>8</td>\n",
              "      <td>3</td>\n",
              "      <td>0.0851</td>\n",
              "      <td>0</td>\n",
              "      <td>0</td>\n",
              "      <td>0</td>\n",
              "      <td>0</td>\n",
              "      <td>0</td>\n",
              "      <td>0</td>\n",
              "      <td>0</td>\n",
              "      <td>0</td>\n",
              "      <td>0</td>\n",
              "      <td>0</td>\n",
              "      <td>0</td>\n",
              "      <td>0</td>\n",
              "      <td>0</td>\n",
              "      <td>1</td>\n",
              "      <td>0</td>\n",
              "      <td>0</td>\n",
              "      <td>0</td>\n",
              "      <td>0</td>\n",
              "      <td>1</td>\n",
              "      <td>0</td>\n",
              "      <td>0</td>\n",
              "      <td>1</td>\n",
              "      <td>0</td>\n",
              "      <td>0</td>\n",
              "    </tr>\n",
              "    <tr>\n",
              "      <th>3</th>\n",
              "      <td>26.0</td>\n",
              "      <td>3</td>\n",
              "      <td>4.0</td>\n",
              "      <td>3</td>\n",
              "      <td>56</td>\n",
              "      <td>1</td>\n",
              "      <td>3</td>\n",
              "      <td>8.0</td>\n",
              "      <td>1.0</td>\n",
              "      <td>3</td>\n",
              "      <td>-1.8176</td>\n",
              "      <td>-0.4537</td>\n",
              "      <td>1.891078</td>\n",
              "      <td>3</td>\n",
              "      <td>7</td>\n",
              "      <td>3</td>\n",
              "      <td>0.0668</td>\n",
              "      <td>0</td>\n",
              "      <td>1</td>\n",
              "      <td>0</td>\n",
              "      <td>1</td>\n",
              "      <td>0</td>\n",
              "      <td>0</td>\n",
              "      <td>1</td>\n",
              "      <td>0</td>\n",
              "      <td>0</td>\n",
              "      <td>0</td>\n",
              "      <td>0</td>\n",
              "      <td>0</td>\n",
              "      <td>0</td>\n",
              "      <td>0</td>\n",
              "      <td>0</td>\n",
              "      <td>0</td>\n",
              "      <td>0</td>\n",
              "      <td>1</td>\n",
              "      <td>0</td>\n",
              "      <td>0</td>\n",
              "      <td>0</td>\n",
              "      <td>1</td>\n",
              "      <td>0</td>\n",
              "      <td>0</td>\n",
              "    </tr>\n",
              "    <tr>\n",
              "      <th>4</th>\n",
              "      <td>31.0</td>\n",
              "      <td>1</td>\n",
              "      <td>5.0</td>\n",
              "      <td>4</td>\n",
              "      <td>62</td>\n",
              "      <td>1</td>\n",
              "      <td>3</td>\n",
              "      <td>2.0</td>\n",
              "      <td>3.0</td>\n",
              "      <td>1</td>\n",
              "      <td>0.7516</td>\n",
              "      <td>-0.4537</td>\n",
              "      <td>2.000000</td>\n",
              "      <td>2</td>\n",
              "      <td>8</td>\n",
              "      <td>2</td>\n",
              "      <td>0.1827</td>\n",
              "      <td>0</td>\n",
              "      <td>0</td>\n",
              "      <td>0</td>\n",
              "      <td>0</td>\n",
              "      <td>1</td>\n",
              "      <td>0</td>\n",
              "      <td>0</td>\n",
              "      <td>0</td>\n",
              "      <td>1</td>\n",
              "      <td>0</td>\n",
              "      <td>0</td>\n",
              "      <td>0</td>\n",
              "      <td>0</td>\n",
              "      <td>0</td>\n",
              "      <td>0</td>\n",
              "      <td>0</td>\n",
              "      <td>0</td>\n",
              "      <td>0</td>\n",
              "      <td>1</td>\n",
              "      <td>0</td>\n",
              "      <td>0</td>\n",
              "      <td>0</td>\n",
              "      <td>1</td>\n",
              "      <td>0</td>\n",
              "    </tr>\n",
              "  </tbody>\n",
              "</table>\n",
              "</div>"
            ],
            "text/plain": [
              "    Age  Education_Level  Time_of_service  ...  type2  type3  type4\n",
              "0  42.0                4              4.0  ...      1      0      0\n",
              "1  24.0                3              5.0  ...      1      0      0\n",
              "2  58.0                3             27.0  ...      1      0      0\n",
              "3  26.0                3              4.0  ...      1      0      0\n",
              "4  31.0                1              5.0  ...      0      1      0\n",
              "\n",
              "[5 rows x 41 columns]"
            ]
          },
          "metadata": {
            "tags": []
          },
          "execution_count": 22
        }
      ]
    },
    {
      "cell_type": "code",
      "metadata": {
        "id": "91gi3bfHslGa",
        "colab_type": "code",
        "colab": {}
      },
      "source": [
        "from sklearn.preprocessing import StandardScaler"
      ],
      "execution_count": null,
      "outputs": []
    },
    {
      "cell_type": "code",
      "metadata": {
        "id": "_gWIoISJteC1",
        "colab_type": "code",
        "colab": {}
      },
      "source": [
        "ss = StandardScaler()"
      ],
      "execution_count": null,
      "outputs": []
    },
    {
      "cell_type": "code",
      "metadata": {
        "id": "4cvLo9dBtd1Z",
        "colab_type": "code",
        "colab": {
          "base_uri": "https://localhost:8080/",
          "height": 34
        },
        "outputId": "c98061d5-0a83-4f80-9d02-daa7eb93d712"
      },
      "source": [
        "ss.fit(train.drop('Attrition_rate',axis=1))"
      ],
      "execution_count": null,
      "outputs": [
        {
          "output_type": "execute_result",
          "data": {
            "text/plain": [
              "StandardScaler(copy=True, with_mean=True, with_std=True)"
            ]
          },
          "metadata": {
            "tags": []
          },
          "execution_count": 25
        }
      ]
    },
    {
      "cell_type": "code",
      "metadata": {
        "id": "ijReHTHbtdnO",
        "colab_type": "code",
        "colab": {}
      },
      "source": [
        "scaled_array = ss.transform(train.drop('Attrition_rate',axis=1))"
      ],
      "execution_count": null,
      "outputs": []
    },
    {
      "cell_type": "code",
      "metadata": {
        "id": "jT1xvpcAt-M3",
        "colab_type": "code",
        "colab": {}
      },
      "source": [
        ""
      ],
      "execution_count": null,
      "outputs": []
    },
    {
      "cell_type": "code",
      "metadata": {
        "id": "pq0ubUyPt-Jd",
        "colab_type": "code",
        "colab": {}
      },
      "source": [
        "from sklearn.decomposition import PCA"
      ],
      "execution_count": null,
      "outputs": []
    },
    {
      "cell_type": "code",
      "metadata": {
        "id": "nWyDk86jt-E5",
        "colab_type": "code",
        "colab": {}
      },
      "source": [
        "pca = PCA(n_components=2)"
      ],
      "execution_count": null,
      "outputs": []
    },
    {
      "cell_type": "code",
      "metadata": {
        "id": "YOLyvw19t-Ai",
        "colab_type": "code",
        "colab": {}
      },
      "source": [
        "X_pca = pca.fit_transform(scaled_array)"
      ],
      "execution_count": null,
      "outputs": []
    },
    {
      "cell_type": "code",
      "metadata": {
        "id": "kYZzSqP5uRkh",
        "colab_type": "code",
        "colab": {}
      },
      "source": [
        ""
      ],
      "execution_count": null,
      "outputs": []
    },
    {
      "cell_type": "code",
      "metadata": {
        "id": "yL5xfc86uRf6",
        "colab_type": "code",
        "colab": {
          "base_uri": "https://localhost:8080/",
          "height": 282
        },
        "outputId": "0bdb17ca-2664-4255-e7a7-ac15af13d198"
      },
      "source": [
        "plt.scatter(X_pca[:,0],X_pca[:,1],c =train['Attrition_rate'])"
      ],
      "execution_count": null,
      "outputs": [
        {
          "output_type": "execute_result",
          "data": {
            "text/plain": [
              "<matplotlib.collections.PathCollection at 0x7f584b50b3c8>"
            ]
          },
          "metadata": {
            "tags": []
          },
          "execution_count": 30
        },
        {
          "output_type": "display_data",
          "data": {
            "image/png": "[encoded data removed]",
            "text/plain": [
              "<Figure size 432x288 with 1 Axes>"
            ]
          },
          "metadata": {
            "tags": [],
            "needs_background": "light"
          }
        }
      ]
    },
    {
      "cell_type": "code",
      "metadata": {
        "id": "ixy0bY_5qr9F",
        "colab_type": "code",
        "colab": {
          "base_uri": "https://localhost:8080/",
          "height": 168
        },
        "outputId": "daa6cdb3-687b-4f6d-d0fe-7c769174d785"
      },
      "source": [
        "train.columns"
      ],
      "execution_count": null,
      "outputs": [
        {
          "output_type": "execute_result",
          "data": {
            "text/plain": [
              "Index(['Age', 'Education_Level', 'Time_of_service', 'Time_since_promotion',\n",
              "       'growth_rate', 'Travel_Rate', 'Post_Level', 'Pay_Scale',\n",
              "       'Work_Life_balance', 'VAR1', 'VAR2', 'VAR3', 'VAR4', 'VAR5', 'VAR6',\n",
              "       'VAR7', 'Attrition_rate', 'M', 'Single', 'Franklin', 'Lebanon',\n",
              "       'Springfield', 'Washington', 'Human Resource Management', 'IT',\n",
              "       'Logistics', 'Marketing', 'Operarions', 'Production', 'Purchasing',\n",
              "       'Quality', 'R&D', 'Sales', 'Security', 'Behavioral', 'Conceptual',\n",
              "       'Directive', 'type1', 'type2', 'type3', 'type4'],\n",
              "      dtype='object')"
            ]
          },
          "metadata": {
            "tags": []
          },
          "execution_count": 31
        }
      ]
    },
    {
      "cell_type": "code",
      "metadata": {
        "id": "hyg3DhZ0q29d",
        "colab_type": "code",
        "colab": {}
      },
      "source": [
        "X = pd.DataFrame(scaled_array,columns=['Age', 'Education_Level', 'Time_of_service', 'Time_since_promotion',\n",
        "       'growth_rate', 'Travel_Rate', 'Post_Level', 'Pay_Scale',\n",
        "       'Work_Life_balance', 'VAR1', 'VAR2', 'VAR3', 'VAR4', 'VAR5', 'VAR6',\n",
        "       'VAR7', 'M', 'Single', 'Franklin', 'Lebanon',\n",
        "       'Springfield', 'Washington', 'Human Resource Management', 'IT',\n",
        "       'Logistics', 'Marketing', 'Operarions', 'Production', 'Purchasing',\n",
        "       'Quality', 'R&D', 'Sales', 'Security', 'Behavioral', 'Conceptual',\n",
        "       'Directive', 'type1', 'type2', 'type3', 'type4'])"
      ],
      "execution_count": null,
      "outputs": []
    },
    {
      "cell_type": "code",
      "metadata": {
        "id": "6z3BqlDFrNcw",
        "colab_type": "code",
        "colab": {}
      },
      "source": [
        "y = train ['Attrition_rate']"
      ],
      "execution_count": null,
      "outputs": []
    },
    {
      "cell_type": "code",
      "metadata": {
        "id": "QhNx1h-urjB0",
        "colab_type": "code",
        "colab": {}
      },
      "source": [
        "from sklearn.model_selection import train_test_split"
      ],
      "execution_count": null,
      "outputs": []
    },
    {
      "cell_type": "code",
      "metadata": {
        "id": "Rvk8sJqsr5Cr",
        "colab_type": "code",
        "colab": {}
      },
      "source": [
        "X_train, X_test, y_train, y_test = train_test_split(X, y, test_size=0.3, random_state=101)"
      ],
      "execution_count": null,
      "outputs": []
    },
    {
      "cell_type": "code",
      "metadata": {
        "id": "1AwbJTd2sElt",
        "colab_type": "code",
        "colab": {}
      },
      "source": [
        "from sklearn.linear_model import LinearRegression"
      ],
      "execution_count": null,
      "outputs": []
    },
    {
      "cell_type": "code",
      "metadata": {
        "id": "1rasvQNdsWKZ",
        "colab_type": "code",
        "colab": {}
      },
      "source": [
        "lr = LinearRegression()"
      ],
      "execution_count": null,
      "outputs": []
    },
    {
      "cell_type": "code",
      "metadata": {
        "id": "skTpLSywv2fj",
        "colab_type": "code",
        "colab": {
          "base_uri": "https://localhost:8080/",
          "height": 34
        },
        "outputId": "de5c4cab-d5f9-41bd-938f-a6ea5d6a5aba"
      },
      "source": [
        "lr.fit(X_train,y_train)"
      ],
      "execution_count": null,
      "outputs": [
        {
          "output_type": "execute_result",
          "data": {
            "text/plain": [
              "LinearRegression(copy_X=True, fit_intercept=True, n_jobs=None, normalize=False)"
            ]
          },
          "metadata": {
            "tags": []
          },
          "execution_count": 38
        }
      ]
    },
    {
      "cell_type": "code",
      "metadata": {
        "id": "i_U3F9Z5v8HH",
        "colab_type": "code",
        "colab": {}
      },
      "source": [
        "y_pred = lr.predict(X_test)"
      ],
      "execution_count": null,
      "outputs": []
    },
    {
      "cell_type": "code",
      "metadata": {
        "id": "88PnfNvsxV2A",
        "colab_type": "code",
        "colab": {}
      },
      "source": [
        "from sklearn.metrics import confusion_matrix"
      ],
      "execution_count": null,
      "outputs": []
    },
    {
      "cell_type": "code",
      "metadata": {
        "id": "v8umVfmgyHip",
        "colab_type": "code",
        "colab": {
          "base_uri": "https://localhost:8080/",
          "height": 50
        },
        "outputId": "4e6a77d3-8568-4e8a-8b27-1fcc86be709a"
      },
      "source": [
        "y_pred"
      ],
      "execution_count": null,
      "outputs": [
        {
          "output_type": "execute_result",
          "data": {
            "text/plain": [
              "array([0.20654724, 0.17885462, 0.20345597, ..., 0.18378096, 0.21711933,\n",
              "       0.20762197])"
            ]
          },
          "metadata": {
            "tags": []
          },
          "execution_count": 41
        }
      ]
    },
    {
      "cell_type": "code",
      "metadata": {
        "id": "Ns1C7hCzyTAo",
        "colab_type": "code",
        "colab": {
          "base_uri": "https://localhost:8080/",
          "height": 455
        },
        "outputId": "eb1a6030-67f0-4c2a-c0cd-46cae0800e61"
      },
      "source": [
        "X_test"
      ],
      "execution_count": null,
      "outputs": [
        {
          "output_type": "execute_result",
          "data": {
            "text/html": [
              "<div>\n",
              "<style scoped>\n",
              "    .dataframe tbody tr th:only-of-type {\n",
              "        vertical-align: middle;\n",
              "    }\n",
              "\n",
              "    .dataframe tbody tr th {\n",
              "        vertical-align: top;\n",
              "    }\n",
              "\n",
              "    .dataframe thead th {\n",
              "        text-align: right;\n",
              "    }\n",
              "</style>\n",
              "<table border=\"1\" class=\"dataframe\">\n",
              "  <thead>\n",
              "    <tr style=\"text-align: right;\">\n",
              "      <th></th>\n",
              "      <th>Age</th>\n",
              "      <th>Education_Level</th>\n",
              "      <th>Time_of_service</th>\n",
              "      <th>Time_since_promotion</th>\n",
              "      <th>growth_rate</th>\n",
              "      <th>Travel_Rate</th>\n",
              "      <th>Post_Level</th>\n",
              "      <th>Pay_Scale</th>\n",
              "      <th>Work_Life_balance</th>\n",
              "      <th>VAR1</th>\n",
              "      <th>VAR2</th>\n",
              "      <th>VAR3</th>\n",
              "      <th>VAR4</th>\n",
              "      <th>VAR5</th>\n",
              "      <th>VAR6</th>\n",
              "      <th>VAR7</th>\n",
              "      <th>M</th>\n",
              "      <th>Single</th>\n",
              "      <th>Franklin</th>\n",
              "      <th>Lebanon</th>\n",
              "      <th>Springfield</th>\n",
              "      <th>Washington</th>\n",
              "      <th>Human Resource Management</th>\n",
              "      <th>IT</th>\n",
              "      <th>Logistics</th>\n",
              "      <th>Marketing</th>\n",
              "      <th>Operarions</th>\n",
              "      <th>Production</th>\n",
              "      <th>Purchasing</th>\n",
              "      <th>Quality</th>\n",
              "      <th>R&amp;D</th>\n",
              "      <th>Sales</th>\n",
              "      <th>Security</th>\n",
              "      <th>Behavioral</th>\n",
              "      <th>Conceptual</th>\n",
              "      <th>Directive</th>\n",
              "      <th>type1</th>\n",
              "      <th>type2</th>\n",
              "      <th>type3</th>\n",
              "      <th>type4</th>\n",
              "    </tr>\n",
              "  </thead>\n",
              "  <tbody>\n",
              "    <tr>\n",
              "      <th>1387</th>\n",
              "      <td>0.407382</td>\n",
              "      <td>-0.176387</td>\n",
              "      <td>-0.720053</td>\n",
              "      <td>1.420724</td>\n",
              "      <td>-1.463444</td>\n",
              "      <td>-1.261816</td>\n",
              "      <td>-1.545154</td>\n",
              "      <td>-0.489213</td>\n",
              "      <td>0.545634</td>\n",
              "      <td>-0.117864</td>\n",
              "      <td>-1.019658e-01</td>\n",
              "      <td>-0.445952</td>\n",
              "      <td>0.216138</td>\n",
              "      <td>-0.888447</td>\n",
              "      <td>0.771973</td>\n",
              "      <td>-0.277762</td>\n",
              "      <td>1.193944</td>\n",
              "      <td>1.350030</td>\n",
              "      <td>-0.527325</td>\n",
              "      <td>-0.647980</td>\n",
              "      <td>-0.574271</td>\n",
              "      <td>-0.433184</td>\n",
              "      <td>-0.227338</td>\n",
              "      <td>-0.498660</td>\n",
              "      <td>-0.448669</td>\n",
              "      <td>-0.176725</td>\n",
              "      <td>-0.334918</td>\n",
              "      <td>-0.176294</td>\n",
              "      <td>-0.278543</td>\n",
              "      <td>-0.168384</td>\n",
              "      <td>-0.328017</td>\n",
              "      <td>-0.394573</td>\n",
              "      <td>6.900081</td>\n",
              "      <td>-0.574271</td>\n",
              "      <td>-0.578670</td>\n",
              "      <td>-0.578010</td>\n",
              "      <td>-0.139169</td>\n",
              "      <td>-1.136365</td>\n",
              "      <td>1.392375</td>\n",
              "      <td>-0.230449</td>\n",
              "    </tr>\n",
              "    <tr>\n",
              "      <th>1686</th>\n",
              "      <td>0.937708</td>\n",
              "      <td>-0.176387</td>\n",
              "      <td>1.327473</td>\n",
              "      <td>1.420724</td>\n",
              "      <td>-1.717246</td>\n",
              "      <td>1.823848</td>\n",
              "      <td>1.032967</td>\n",
              "      <td>-0.975366</td>\n",
              "      <td>-1.237178</td>\n",
              "      <td>-2.509301</td>\n",
              "      <td>8.013118e-01</td>\n",
              "      <td>-0.445952</td>\n",
              "      <td>0.216138</td>\n",
              "      <td>0.176655</td>\n",
              "      <td>-0.087002</td>\n",
              "      <td>1.883808</td>\n",
              "      <td>-0.837560</td>\n",
              "      <td>1.350030</td>\n",
              "      <td>-0.527325</td>\n",
              "      <td>1.543257</td>\n",
              "      <td>-0.574271</td>\n",
              "      <td>-0.433184</td>\n",
              "      <td>-0.227338</td>\n",
              "      <td>-0.498660</td>\n",
              "      <td>-0.448669</td>\n",
              "      <td>-0.176725</td>\n",
              "      <td>-0.334918</td>\n",
              "      <td>-0.176294</td>\n",
              "      <td>3.590110</td>\n",
              "      <td>-0.168384</td>\n",
              "      <td>-0.328017</td>\n",
              "      <td>-0.394573</td>\n",
              "      <td>-0.144926</td>\n",
              "      <td>1.741338</td>\n",
              "      <td>-0.578670</td>\n",
              "      <td>-0.578010</td>\n",
              "      <td>-0.139169</td>\n",
              "      <td>0.879999</td>\n",
              "      <td>-0.718198</td>\n",
              "      <td>-0.230449</td>\n",
              "    </tr>\n",
              "    <tr>\n",
              "      <th>5761</th>\n",
              "      <td>1.164991</td>\n",
              "      <td>-0.176387</td>\n",
              "      <td>0.254959</td>\n",
              "      <td>1.420724</td>\n",
              "      <td>1.391835</td>\n",
              "      <td>-1.261816</td>\n",
              "      <td>0.173594</td>\n",
              "      <td>1.455400</td>\n",
              "      <td>-1.237178</td>\n",
              "      <td>-0.117864</td>\n",
              "      <td>-1.019658e-01</td>\n",
              "      <td>1.907466</td>\n",
              "      <td>0.216138</td>\n",
              "      <td>-0.888447</td>\n",
              "      <td>0.771973</td>\n",
              "      <td>0.803023</td>\n",
              "      <td>1.193944</td>\n",
              "      <td>1.350030</td>\n",
              "      <td>-0.527325</td>\n",
              "      <td>-0.647980</td>\n",
              "      <td>-0.574271</td>\n",
              "      <td>-0.433184</td>\n",
              "      <td>-0.227338</td>\n",
              "      <td>-0.498660</td>\n",
              "      <td>2.228812</td>\n",
              "      <td>-0.176725</td>\n",
              "      <td>-0.334918</td>\n",
              "      <td>-0.176294</td>\n",
              "      <td>-0.278543</td>\n",
              "      <td>-0.168384</td>\n",
              "      <td>-0.328017</td>\n",
              "      <td>-0.394573</td>\n",
              "      <td>-0.144926</td>\n",
              "      <td>-0.574271</td>\n",
              "      <td>-0.578670</td>\n",
              "      <td>1.730074</td>\n",
              "      <td>-0.139169</td>\n",
              "      <td>-1.136365</td>\n",
              "      <td>-0.718198</td>\n",
              "      <td>4.339358</td>\n",
              "    </tr>\n",
              "    <tr>\n",
              "      <th>1247</th>\n",
              "      <td>-0.880554</td>\n",
              "      <td>-0.176387</td>\n",
              "      <td>-0.720053</td>\n",
              "      <td>1.420724</td>\n",
              "      <td>0.313174</td>\n",
              "      <td>1.823848</td>\n",
              "      <td>-1.545154</td>\n",
              "      <td>0.969247</td>\n",
              "      <td>-1.237178</td>\n",
              "      <td>-1.313582</td>\n",
              "      <td>-1.019658e-01</td>\n",
              "      <td>0.730706</td>\n",
              "      <td>-1.768200</td>\n",
              "      <td>-0.888447</td>\n",
              "      <td>-0.087002</td>\n",
              "      <td>-0.277762</td>\n",
              "      <td>-0.837560</td>\n",
              "      <td>-0.740724</td>\n",
              "      <td>-0.527325</td>\n",
              "      <td>-0.647980</td>\n",
              "      <td>-0.574271</td>\n",
              "      <td>2.308487</td>\n",
              "      <td>-0.227338</td>\n",
              "      <td>-0.498660</td>\n",
              "      <td>2.228812</td>\n",
              "      <td>-0.176725</td>\n",
              "      <td>-0.334918</td>\n",
              "      <td>-0.176294</td>\n",
              "      <td>-0.278543</td>\n",
              "      <td>-0.168384</td>\n",
              "      <td>-0.328017</td>\n",
              "      <td>-0.394573</td>\n",
              "      <td>-0.144926</td>\n",
              "      <td>-0.574271</td>\n",
              "      <td>-0.578670</td>\n",
              "      <td>1.730074</td>\n",
              "      <td>-0.139169</td>\n",
              "      <td>-1.136365</td>\n",
              "      <td>1.392375</td>\n",
              "      <td>-0.230449</td>\n",
              "    </tr>\n",
              "    <tr>\n",
              "      <th>4465</th>\n",
              "      <td>-0.122945</td>\n",
              "      <td>0.762557</td>\n",
              "      <td>-0.232547</td>\n",
              "      <td>-0.319445</td>\n",
              "      <td>-0.448234</td>\n",
              "      <td>0.281016</td>\n",
              "      <td>-1.545154</td>\n",
              "      <td>-0.489213</td>\n",
              "      <td>-0.345772</td>\n",
              "      <td>-2.509301</td>\n",
              "      <td>-1.019658e-01</td>\n",
              "      <td>-0.445952</td>\n",
              "      <td>0.216138</td>\n",
              "      <td>-0.888447</td>\n",
              "      <td>-0.087002</td>\n",
              "      <td>0.803023</td>\n",
              "      <td>-0.837560</td>\n",
              "      <td>1.350030</td>\n",
              "      <td>1.896363</td>\n",
              "      <td>-0.647980</td>\n",
              "      <td>-0.574271</td>\n",
              "      <td>-0.433184</td>\n",
              "      <td>-0.227338</td>\n",
              "      <td>-0.498660</td>\n",
              "      <td>-0.448669</td>\n",
              "      <td>-0.176725</td>\n",
              "      <td>-0.334918</td>\n",
              "      <td>-0.176294</td>\n",
              "      <td>3.590110</td>\n",
              "      <td>-0.168384</td>\n",
              "      <td>-0.328017</td>\n",
              "      <td>-0.394573</td>\n",
              "      <td>-0.144926</td>\n",
              "      <td>-0.574271</td>\n",
              "      <td>1.728101</td>\n",
              "      <td>-0.578010</td>\n",
              "      <td>-0.139169</td>\n",
              "      <td>-1.136365</td>\n",
              "      <td>1.392375</td>\n",
              "      <td>-0.230449</td>\n",
              "    </tr>\n",
              "    <tr>\n",
              "      <th>...</th>\n",
              "      <td>...</td>\n",
              "      <td>...</td>\n",
              "      <td>...</td>\n",
              "      <td>...</td>\n",
              "      <td>...</td>\n",
              "      <td>...</td>\n",
              "      <td>...</td>\n",
              "      <td>...</td>\n",
              "      <td>...</td>\n",
              "      <td>...</td>\n",
              "      <td>...</td>\n",
              "      <td>...</td>\n",
              "      <td>...</td>\n",
              "      <td>...</td>\n",
              "      <td>...</td>\n",
              "      <td>...</td>\n",
              "      <td>...</td>\n",
              "      <td>...</td>\n",
              "      <td>...</td>\n",
              "      <td>...</td>\n",
              "      <td>...</td>\n",
              "      <td>...</td>\n",
              "      <td>...</td>\n",
              "      <td>...</td>\n",
              "      <td>...</td>\n",
              "      <td>...</td>\n",
              "      <td>...</td>\n",
              "      <td>...</td>\n",
              "      <td>...</td>\n",
              "      <td>...</td>\n",
              "      <td>...</td>\n",
              "      <td>...</td>\n",
              "      <td>...</td>\n",
              "      <td>...</td>\n",
              "      <td>...</td>\n",
              "      <td>...</td>\n",
              "      <td>...</td>\n",
              "      <td>...</td>\n",
              "      <td>...</td>\n",
              "      <td>...</td>\n",
              "    </tr>\n",
              "    <tr>\n",
              "      <th>5986</th>\n",
              "      <td>1.771079</td>\n",
              "      <td>0.762557</td>\n",
              "      <td>1.717478</td>\n",
              "      <td>1.420724</td>\n",
              "      <td>-0.638585</td>\n",
              "      <td>0.281016</td>\n",
              "      <td>0.173594</td>\n",
              "      <td>-0.975366</td>\n",
              "      <td>-1.237178</td>\n",
              "      <td>-1.313582</td>\n",
              "      <td>-1.005243e+00</td>\n",
              "      <td>-0.445952</td>\n",
              "      <td>0.216138</td>\n",
              "      <td>-0.888447</td>\n",
              "      <td>-0.087002</td>\n",
              "      <td>-1.358547</td>\n",
              "      <td>1.193944</td>\n",
              "      <td>1.350030</td>\n",
              "      <td>-0.527325</td>\n",
              "      <td>1.543257</td>\n",
              "      <td>-0.574271</td>\n",
              "      <td>-0.433184</td>\n",
              "      <td>-0.227338</td>\n",
              "      <td>-0.498660</td>\n",
              "      <td>-0.448669</td>\n",
              "      <td>-0.176725</td>\n",
              "      <td>-0.334918</td>\n",
              "      <td>-0.176294</td>\n",
              "      <td>-0.278543</td>\n",
              "      <td>-0.168384</td>\n",
              "      <td>3.048626</td>\n",
              "      <td>-0.394573</td>\n",
              "      <td>-0.144926</td>\n",
              "      <td>-0.574271</td>\n",
              "      <td>-0.578670</td>\n",
              "      <td>-0.578010</td>\n",
              "      <td>-0.139169</td>\n",
              "      <td>0.879999</td>\n",
              "      <td>-0.718198</td>\n",
              "      <td>-0.230449</td>\n",
              "    </tr>\n",
              "    <tr>\n",
              "      <th>3457</th>\n",
              "      <td>-1.335120</td>\n",
              "      <td>-2.054275</td>\n",
              "      <td>-1.012556</td>\n",
              "      <td>0.550639</td>\n",
              "      <td>-0.828937</td>\n",
              "      <td>-1.261816</td>\n",
              "      <td>1.892341</td>\n",
              "      <td>-0.003060</td>\n",
              "      <td>-0.345772</td>\n",
              "      <td>1.077855</td>\n",
              "      <td>8.013118e-01</td>\n",
              "      <td>-0.445952</td>\n",
              "      <td>-1.768200</td>\n",
              "      <td>0.176655</td>\n",
              "      <td>-0.945976</td>\n",
              "      <td>-0.277762</td>\n",
              "      <td>-0.837560</td>\n",
              "      <td>-0.740724</td>\n",
              "      <td>-0.527325</td>\n",
              "      <td>1.543257</td>\n",
              "      <td>-0.574271</td>\n",
              "      <td>-0.433184</td>\n",
              "      <td>-0.227338</td>\n",
              "      <td>-0.498660</td>\n",
              "      <td>-0.448669</td>\n",
              "      <td>-0.176725</td>\n",
              "      <td>-0.334918</td>\n",
              "      <td>-0.176294</td>\n",
              "      <td>-0.278543</td>\n",
              "      <td>-0.168384</td>\n",
              "      <td>-0.328017</td>\n",
              "      <td>2.534387</td>\n",
              "      <td>-0.144926</td>\n",
              "      <td>1.741338</td>\n",
              "      <td>-0.578670</td>\n",
              "      <td>-0.578010</td>\n",
              "      <td>-0.139169</td>\n",
              "      <td>0.879999</td>\n",
              "      <td>-0.718198</td>\n",
              "      <td>-0.230449</td>\n",
              "    </tr>\n",
              "    <tr>\n",
              "      <th>1648</th>\n",
              "      <td>0.104338</td>\n",
              "      <td>-1.115331</td>\n",
              "      <td>0.059957</td>\n",
              "      <td>-1.189530</td>\n",
              "      <td>-0.638585</td>\n",
              "      <td>1.823848</td>\n",
              "      <td>1.032967</td>\n",
              "      <td>0.483093</td>\n",
              "      <td>-0.345772</td>\n",
              "      <td>1.077855</td>\n",
              "      <td>1.494847e-15</td>\n",
              "      <td>-1.622712</td>\n",
              "      <td>-1.768200</td>\n",
              "      <td>-0.888447</td>\n",
              "      <td>-0.945976</td>\n",
              "      <td>-0.277762</td>\n",
              "      <td>-0.837560</td>\n",
              "      <td>-0.740724</td>\n",
              "      <td>-0.527325</td>\n",
              "      <td>-0.647980</td>\n",
              "      <td>1.741338</td>\n",
              "      <td>-0.433184</td>\n",
              "      <td>-0.227338</td>\n",
              "      <td>-0.498660</td>\n",
              "      <td>2.228812</td>\n",
              "      <td>-0.176725</td>\n",
              "      <td>-0.334918</td>\n",
              "      <td>-0.176294</td>\n",
              "      <td>-0.278543</td>\n",
              "      <td>-0.168384</td>\n",
              "      <td>-0.328017</td>\n",
              "      <td>-0.394573</td>\n",
              "      <td>-0.144926</td>\n",
              "      <td>-0.574271</td>\n",
              "      <td>1.728101</td>\n",
              "      <td>-0.578010</td>\n",
              "      <td>-0.139169</td>\n",
              "      <td>0.879999</td>\n",
              "      <td>-0.718198</td>\n",
              "      <td>-0.230449</td>\n",
              "    </tr>\n",
              "    <tr>\n",
              "      <th>3389</th>\n",
              "      <td>0.104338</td>\n",
              "      <td>1.701500</td>\n",
              "      <td>0.059957</td>\n",
              "      <td>0.550639</td>\n",
              "      <td>1.582187</td>\n",
              "      <td>-1.261816</td>\n",
              "      <td>1.892341</td>\n",
              "      <td>0.969247</td>\n",
              "      <td>1.437040</td>\n",
              "      <td>-0.117864</td>\n",
              "      <td>-1.005243e+00</td>\n",
              "      <td>-0.445952</td>\n",
              "      <td>-1.768200</td>\n",
              "      <td>0.176655</td>\n",
              "      <td>0.771973</td>\n",
              "      <td>0.803023</td>\n",
              "      <td>-0.837560</td>\n",
              "      <td>-0.740724</td>\n",
              "      <td>-0.527325</td>\n",
              "      <td>1.543257</td>\n",
              "      <td>-0.574271</td>\n",
              "      <td>-0.433184</td>\n",
              "      <td>-0.227338</td>\n",
              "      <td>-0.498660</td>\n",
              "      <td>-0.448669</td>\n",
              "      <td>-0.176725</td>\n",
              "      <td>2.985802</td>\n",
              "      <td>-0.176294</td>\n",
              "      <td>-0.278543</td>\n",
              "      <td>-0.168384</td>\n",
              "      <td>-0.328017</td>\n",
              "      <td>-0.394573</td>\n",
              "      <td>-0.144926</td>\n",
              "      <td>1.741338</td>\n",
              "      <td>-0.578670</td>\n",
              "      <td>-0.578010</td>\n",
              "      <td>-0.139169</td>\n",
              "      <td>0.879999</td>\n",
              "      <td>-0.718198</td>\n",
              "      <td>-0.230449</td>\n",
              "    </tr>\n",
              "    <tr>\n",
              "      <th>4364</th>\n",
              "      <td>-0.198706</td>\n",
              "      <td>0.762557</td>\n",
              "      <td>0.157458</td>\n",
              "      <td>1.420724</td>\n",
              "      <td>-0.067530</td>\n",
              "      <td>0.281016</td>\n",
              "      <td>1.032967</td>\n",
              "      <td>-1.947673</td>\n",
              "      <td>0.545634</td>\n",
              "      <td>-0.117864</td>\n",
              "      <td>-1.019658e-01</td>\n",
              "      <td>-2.799371</td>\n",
              "      <td>0.216138</td>\n",
              "      <td>-1.953548</td>\n",
              "      <td>-0.087002</td>\n",
              "      <td>-0.277762</td>\n",
              "      <td>1.193944</td>\n",
              "      <td>-0.740724</td>\n",
              "      <td>1.896363</td>\n",
              "      <td>-0.647980</td>\n",
              "      <td>-0.574271</td>\n",
              "      <td>-0.433184</td>\n",
              "      <td>-0.227338</td>\n",
              "      <td>2.005373</td>\n",
              "      <td>-0.448669</td>\n",
              "      <td>-0.176725</td>\n",
              "      <td>-0.334918</td>\n",
              "      <td>-0.176294</td>\n",
              "      <td>-0.278543</td>\n",
              "      <td>-0.168384</td>\n",
              "      <td>-0.328017</td>\n",
              "      <td>-0.394573</td>\n",
              "      <td>-0.144926</td>\n",
              "      <td>-0.574271</td>\n",
              "      <td>-0.578670</td>\n",
              "      <td>1.730074</td>\n",
              "      <td>-0.139169</td>\n",
              "      <td>0.879999</td>\n",
              "      <td>-0.718198</td>\n",
              "      <td>-0.230449</td>\n",
              "    </tr>\n",
              "  </tbody>\n",
              "</table>\n",
              "<p>2100 rows × 40 columns</p>\n",
              "</div>"
            ],
            "text/plain": [
              "           Age  Education_Level  Time_of_service  ...     type2     type3     type4\n",
              "1387  0.407382        -0.176387        -0.720053  ... -1.136365  1.392375 -0.230449\n",
              "1686  0.937708        -0.176387         1.327473  ...  0.879999 -0.718198 -0.230449\n",
              "5761  1.164991        -0.176387         0.254959  ... -1.136365 -0.718198  4.339358\n",
              "1247 -0.880554        -0.176387        -0.720053  ... -1.136365  1.392375 -0.230449\n",
              "4465 -0.122945         0.762557        -0.232547  ... -1.136365  1.392375 -0.230449\n",
              "...        ...              ...              ...  ...       ...       ...       ...\n",
              "5986  1.771079         0.762557         1.717478  ...  0.879999 -0.718198 -0.230449\n",
              "3457 -1.335120        -2.054275        -1.012556  ...  0.879999 -0.718198 -0.230449\n",
              "1648  0.104338        -1.115331         0.059957  ...  0.879999 -0.718198 -0.230449\n",
              "3389  0.104338         1.701500         0.059957  ...  0.879999 -0.718198 -0.230449\n",
              "4364 -0.198706         0.762557         0.157458  ...  0.879999 -0.718198 -0.230449\n",
              "\n",
              "[2100 rows x 40 columns]"
            ]
          },
          "metadata": {
            "tags": []
          },
          "execution_count": 42
        }
      ]
    },
    {
      "cell_type": "markdown",
      "metadata": {
        "id": "4_dOj67w1AcL",
        "colab_type": "text"
      },
      "source": [
        "** For Test File**"
      ]
    },
    {
      "cell_type": "code",
      "metadata": {
        "id": "8nlwpekm1I5Z",
        "colab_type": "code",
        "colab": {
          "base_uri": "https://localhost:8080/",
          "height": 215
        },
        "outputId": "2aef93b3-5119-4c5c-f0df-155541d87c63"
      },
      "source": [
        "test.head()"
      ],
      "execution_count": null,
      "outputs": [
        {
          "output_type": "execute_result",
          "data": {
            "text/html": [
              "<div>\n",
              "<style scoped>\n",
              "    .dataframe tbody tr th:only-of-type {\n",
              "        vertical-align: middle;\n",
              "    }\n",
              "\n",
              "    .dataframe tbody tr th {\n",
              "        vertical-align: top;\n",
              "    }\n",
              "\n",
              "    .dataframe thead th {\n",
              "        text-align: right;\n",
              "    }\n",
              "</style>\n",
              "<table border=\"1\" class=\"dataframe\">\n",
              "  <thead>\n",
              "    <tr style=\"text-align: right;\">\n",
              "      <th></th>\n",
              "      <th>Employee_ID</th>\n",
              "      <th>Gender</th>\n",
              "      <th>Age</th>\n",
              "      <th>Education_Level</th>\n",
              "      <th>Relationship_Status</th>\n",
              "      <th>Hometown</th>\n",
              "      <th>Unit</th>\n",
              "      <th>Decision_skill_possess</th>\n",
              "      <th>Time_of_service</th>\n",
              "      <th>Time_since_promotion</th>\n",
              "      <th>growth_rate</th>\n",
              "      <th>Travel_Rate</th>\n",
              "      <th>Post_Level</th>\n",
              "      <th>Pay_Scale</th>\n",
              "      <th>Compensation_and_Benefits</th>\n",
              "      <th>Work_Life_balance</th>\n",
              "      <th>VAR1</th>\n",
              "      <th>VAR2</th>\n",
              "      <th>VAR3</th>\n",
              "      <th>VAR4</th>\n",
              "      <th>VAR5</th>\n",
              "      <th>VAR6</th>\n",
              "      <th>VAR7</th>\n",
              "    </tr>\n",
              "  </thead>\n",
              "  <tbody>\n",
              "    <tr>\n",
              "      <th>0</th>\n",
              "      <td>EID_22713</td>\n",
              "      <td>F</td>\n",
              "      <td>32.0</td>\n",
              "      <td>5</td>\n",
              "      <td>Single</td>\n",
              "      <td>Springfield</td>\n",
              "      <td>R&amp;D</td>\n",
              "      <td>Conceptual</td>\n",
              "      <td>7.0</td>\n",
              "      <td>4</td>\n",
              "      <td>30</td>\n",
              "      <td>1</td>\n",
              "      <td>5</td>\n",
              "      <td>4.0</td>\n",
              "      <td>type2</td>\n",
              "      <td>1.0</td>\n",
              "      <td>3</td>\n",
              "      <td>-0.9612</td>\n",
              "      <td>-0.4537</td>\n",
              "      <td>2.0</td>\n",
              "      <td>1</td>\n",
              "      <td>8</td>\n",
              "      <td>4</td>\n",
              "    </tr>\n",
              "    <tr>\n",
              "      <th>1</th>\n",
              "      <td>EID_9658</td>\n",
              "      <td>M</td>\n",
              "      <td>65.0</td>\n",
              "      <td>2</td>\n",
              "      <td>Single</td>\n",
              "      <td>Lebanon</td>\n",
              "      <td>IT</td>\n",
              "      <td>Directive</td>\n",
              "      <td>41.0</td>\n",
              "      <td>2</td>\n",
              "      <td>72</td>\n",
              "      <td>1</td>\n",
              "      <td>1</td>\n",
              "      <td>1.0</td>\n",
              "      <td>type2</td>\n",
              "      <td>1.0</td>\n",
              "      <td>4</td>\n",
              "      <td>-0.9612</td>\n",
              "      <td>0.7075</td>\n",
              "      <td>1.0</td>\n",
              "      <td>2</td>\n",
              "      <td>8</td>\n",
              "      <td>2</td>\n",
              "    </tr>\n",
              "    <tr>\n",
              "      <th>2</th>\n",
              "      <td>EID_22203</td>\n",
              "      <td>M</td>\n",
              "      <td>52.0</td>\n",
              "      <td>3</td>\n",
              "      <td>Married</td>\n",
              "      <td>Springfield</td>\n",
              "      <td>Sales</td>\n",
              "      <td>Directive</td>\n",
              "      <td>21.0</td>\n",
              "      <td>3</td>\n",
              "      <td>25</td>\n",
              "      <td>0</td>\n",
              "      <td>1</td>\n",
              "      <td>8.0</td>\n",
              "      <td>type3</td>\n",
              "      <td>1.0</td>\n",
              "      <td>4</td>\n",
              "      <td>-0.1048</td>\n",
              "      <td>0.7075</td>\n",
              "      <td>2.0</td>\n",
              "      <td>1</td>\n",
              "      <td>9</td>\n",
              "      <td>3</td>\n",
              "    </tr>\n",
              "    <tr>\n",
              "      <th>3</th>\n",
              "      <td>EID_7652</td>\n",
              "      <td>M</td>\n",
              "      <td>50.0</td>\n",
              "      <td>5</td>\n",
              "      <td>Single</td>\n",
              "      <td>Washington</td>\n",
              "      <td>Marketing</td>\n",
              "      <td>Analytical</td>\n",
              "      <td>11.0</td>\n",
              "      <td>4</td>\n",
              "      <td>28</td>\n",
              "      <td>1</td>\n",
              "      <td>1</td>\n",
              "      <td>2.0</td>\n",
              "      <td>type0</td>\n",
              "      <td>4.0</td>\n",
              "      <td>3</td>\n",
              "      <td>-0.1048</td>\n",
              "      <td>0.7075</td>\n",
              "      <td>2.0</td>\n",
              "      <td>2</td>\n",
              "      <td>8</td>\n",
              "      <td>3</td>\n",
              "    </tr>\n",
              "    <tr>\n",
              "      <th>4</th>\n",
              "      <td>EID_6516</td>\n",
              "      <td>F</td>\n",
              "      <td>44.0</td>\n",
              "      <td>3</td>\n",
              "      <td>Married</td>\n",
              "      <td>Franklin</td>\n",
              "      <td>R&amp;D</td>\n",
              "      <td>Conceptual</td>\n",
              "      <td>12.0</td>\n",
              "      <td>4</td>\n",
              "      <td>47</td>\n",
              "      <td>1</td>\n",
              "      <td>3</td>\n",
              "      <td>2.0</td>\n",
              "      <td>type2</td>\n",
              "      <td>4.0</td>\n",
              "      <td>4</td>\n",
              "      <td>1.6081</td>\n",
              "      <td>0.7075</td>\n",
              "      <td>2.0</td>\n",
              "      <td>2</td>\n",
              "      <td>7</td>\n",
              "      <td>4</td>\n",
              "    </tr>\n",
              "  </tbody>\n",
              "</table>\n",
              "</div>"
            ],
            "text/plain": [
              "  Employee_ID Gender   Age  Education_Level  ... VAR4 VAR5 VAR6 VAR7\n",
              "0   EID_22713      F  32.0                5  ...  2.0    1    8    4\n",
              "1    EID_9658      M  65.0                2  ...  1.0    2    8    2\n",
              "2   EID_22203      M  52.0                3  ...  2.0    1    9    3\n",
              "3    EID_7652      M  50.0                5  ...  2.0    2    8    3\n",
              "4    EID_6516      F  44.0                3  ...  2.0    2    7    4\n",
              "\n",
              "[5 rows x 23 columns]"
            ]
          },
          "metadata": {
            "tags": []
          },
          "execution_count": 43
        }
      ]
    },
    {
      "cell_type": "code",
      "metadata": {
        "id": "9Pud2q0V1Mkp",
        "colab_type": "code",
        "colab": {
          "base_uri": "https://localhost:8080/",
          "height": 521
        },
        "outputId": "4d5ac73e-4d19-456c-9742-57ff37f272ca"
      },
      "source": [
        "test.info()"
      ],
      "execution_count": null,
      "outputs": [
        {
          "output_type": "stream",
          "text": [
            "<class 'pandas.core.frame.DataFrame'>\n",
            "RangeIndex: 3000 entries, 0 to 2999\n",
            "Data columns (total 23 columns):\n",
            " #   Column                     Non-Null Count  Dtype  \n",
            "---  ------                     --------------  -----  \n",
            " 0   Employee_ID                3000 non-null   object \n",
            " 1   Gender                     3000 non-null   object \n",
            " 2   Age                        2839 non-null   float64\n",
            " 3   Education_Level            3000 non-null   int64  \n",
            " 4   Relationship_Status        3000 non-null   object \n",
            " 5   Hometown                   3000 non-null   object \n",
            " 6   Unit                       3000 non-null   object \n",
            " 7   Decision_skill_possess     3000 non-null   object \n",
            " 8   Time_of_service            2948 non-null   float64\n",
            " 9   Time_since_promotion       3000 non-null   int64  \n",
            " 10  growth_rate                3000 non-null   int64  \n",
            " 11  Travel_Rate                3000 non-null   int64  \n",
            " 12  Post_Level                 3000 non-null   int64  \n",
            " 13  Pay_Scale                  2997 non-null   float64\n",
            " 14  Compensation_and_Benefits  3000 non-null   object \n",
            " 15  Work_Life_balance          2995 non-null   float64\n",
            " 16  VAR1                       3000 non-null   int64  \n",
            " 17  VAR2                       2783 non-null   float64\n",
            " 18  VAR3                       3000 non-null   float64\n",
            " 19  VAR4                       2702 non-null   float64\n",
            " 20  VAR5                       3000 non-null   int64  \n",
            " 21  VAR6                       3000 non-null   int64  \n",
            " 22  VAR7                       3000 non-null   int64  \n",
            "dtypes: float64(7), int64(9), object(7)\n",
            "memory usage: 539.2+ KB\n"
          ],
          "name": "stdout"
        }
      ]
    },
    {
      "cell_type": "code",
      "metadata": {
        "id": "3M2IV0bR1acT",
        "colab_type": "code",
        "colab": {
          "base_uri": "https://localhost:8080/",
          "height": 420
        },
        "outputId": "4f2d3506-6bb2-450e-8dbf-22f7d98eb67c"
      },
      "source": [
        "test.isnull().sum()"
      ],
      "execution_count": null,
      "outputs": [
        {
          "output_type": "execute_result",
          "data": {
            "text/plain": [
              "Employee_ID                    0\n",
              "Gender                         0\n",
              "Age                          161\n",
              "Education_Level                0\n",
              "Relationship_Status            0\n",
              "Hometown                       0\n",
              "Unit                           0\n",
              "Decision_skill_possess         0\n",
              "Time_of_service               52\n",
              "Time_since_promotion           0\n",
              "growth_rate                    0\n",
              "Travel_Rate                    0\n",
              "Post_Level                     0\n",
              "Pay_Scale                      3\n",
              "Compensation_and_Benefits      0\n",
              "Work_Life_balance              5\n",
              "VAR1                           0\n",
              "VAR2                         217\n",
              "VAR3                           0\n",
              "VAR4                         298\n",
              "VAR5                           0\n",
              "VAR6                           0\n",
              "VAR7                           0\n",
              "dtype: int64"
            ]
          },
          "metadata": {
            "tags": []
          },
          "execution_count": 45
        }
      ]
    },
    {
      "cell_type": "code",
      "metadata": {
        "id": "xvfpbO821hhQ",
        "colab_type": "code",
        "colab": {}
      },
      "source": [
        "test['Age'] = test['Age'].fillna(test['Age'].mean())\n",
        "test['Time_of_service'] = test['Time_of_service'].fillna(test['Time_of_service'].mean())\n",
        "test['Pay_Scale'] = test['Pay_Scale'].fillna(test['Pay_Scale'].mean())\n",
        "test['Work_Life_balance'] = test['Work_Life_balance'].fillna(test['Work_Life_balance'].mean())\n",
        "test['VAR2'] = test['VAR2'].fillna(test['VAR2'].mean())\n",
        "test['VAR4'] = test['VAR4'].fillna(test['VAR4'].mean())"
      ],
      "execution_count": null,
      "outputs": []
    },
    {
      "cell_type": "code",
      "metadata": {
        "id": "_gfZ3L7L2HZt",
        "colab_type": "code",
        "colab": {
          "base_uri": "https://localhost:8080/",
          "height": 420
        },
        "outputId": "8d0a5787-ec51-4df2-eba8-607ffebf68c4"
      },
      "source": [
        "test.isnull().sum()"
      ],
      "execution_count": null,
      "outputs": [
        {
          "output_type": "execute_result",
          "data": {
            "text/plain": [
              "Employee_ID                  0\n",
              "Gender                       0\n",
              "Age                          0\n",
              "Education_Level              0\n",
              "Relationship_Status          0\n",
              "Hometown                     0\n",
              "Unit                         0\n",
              "Decision_skill_possess       0\n",
              "Time_of_service              0\n",
              "Time_since_promotion         0\n",
              "growth_rate                  0\n",
              "Travel_Rate                  0\n",
              "Post_Level                   0\n",
              "Pay_Scale                    0\n",
              "Compensation_and_Benefits    0\n",
              "Work_Life_balance            0\n",
              "VAR1                         0\n",
              "VAR2                         0\n",
              "VAR3                         0\n",
              "VAR4                         0\n",
              "VAR5                         0\n",
              "VAR6                         0\n",
              "VAR7                         0\n",
              "dtype: int64"
            ]
          },
          "metadata": {
            "tags": []
          },
          "execution_count": 47
        }
      ]
    },
    {
      "cell_type": "code",
      "metadata": {
        "id": "yziLoize2JPr",
        "colab_type": "code",
        "colab": {}
      },
      "source": [
        "gender1 = pd.get_dummies(test['Gender'],drop_first=True)\n",
        "status1 = pd.get_dummies(test['Relationship_Status'],drop_first=True)\n",
        "hometown1 = pd.get_dummies(test['Hometown'],drop_first=True)\n",
        "unit1 = pd.get_dummies(test['Unit'],drop_first=True)\n",
        "skill1 = pd.get_dummies(test['Decision_skill_possess'],drop_first=True)\n",
        "benefits1 = pd.get_dummies(test['Compensation_and_Benefits'],drop_first=True)"
      ],
      "execution_count": null,
      "outputs": []
    },
    {
      "cell_type": "code",
      "metadata": {
        "id": "Hxc7KwkS2hJg",
        "colab_type": "code",
        "colab": {}
      },
      "source": [
        "test.drop(['Gender','Relationship_Status','Hometown','Unit','Decision_skill_possess','Compensation_and_Benefits'],inplace=True,axis=1)"
      ],
      "execution_count": null,
      "outputs": []
    },
    {
      "cell_type": "code",
      "metadata": {
        "id": "z_r4u6l92ouA",
        "colab_type": "code",
        "colab": {}
      },
      "source": [
        "test = pd.concat([test,gender1,status1,hometown1,unit1,skill1,benefits1],axis=1)"
      ],
      "execution_count": null,
      "outputs": []
    },
    {
      "cell_type": "code",
      "metadata": {
        "id": "UeNtLucP5HTM",
        "colab_type": "code",
        "colab": {}
      },
      "source": [
        "ID = test['Employee_ID']"
      ],
      "execution_count": null,
      "outputs": []
    },
    {
      "cell_type": "code",
      "metadata": {
        "id": "jQkOcrMu20Y7",
        "colab_type": "code",
        "colab": {}
      },
      "source": [
        "test.drop('Employee_ID',inplace=True,axis=1)"
      ],
      "execution_count": null,
      "outputs": []
    },
    {
      "cell_type": "code",
      "metadata": {
        "id": "mGropuhh28VC",
        "colab_type": "code",
        "colab": {
          "base_uri": "https://localhost:8080/",
          "height": 249
        },
        "outputId": "c5614377-4249-4caf-b79f-f9eb86ca241a"
      },
      "source": [
        "test.head()"
      ],
      "execution_count": null,
      "outputs": [
        {
          "output_type": "execute_result",
          "data": {
            "text/html": [
              "<div>\n",
              "<style scoped>\n",
              "    .dataframe tbody tr th:only-of-type {\n",
              "        vertical-align: middle;\n",
              "    }\n",
              "\n",
              "    .dataframe tbody tr th {\n",
              "        vertical-align: top;\n",
              "    }\n",
              "\n",
              "    .dataframe thead th {\n",
              "        text-align: right;\n",
              "    }\n",
              "</style>\n",
              "<table border=\"1\" class=\"dataframe\">\n",
              "  <thead>\n",
              "    <tr style=\"text-align: right;\">\n",
              "      <th></th>\n",
              "      <th>Age</th>\n",
              "      <th>Education_Level</th>\n",
              "      <th>Time_of_service</th>\n",
              "      <th>Time_since_promotion</th>\n",
              "      <th>growth_rate</th>\n",
              "      <th>Travel_Rate</th>\n",
              "      <th>Post_Level</th>\n",
              "      <th>Pay_Scale</th>\n",
              "      <th>Work_Life_balance</th>\n",
              "      <th>VAR1</th>\n",
              "      <th>VAR2</th>\n",
              "      <th>VAR3</th>\n",
              "      <th>VAR4</th>\n",
              "      <th>VAR5</th>\n",
              "      <th>VAR6</th>\n",
              "      <th>VAR7</th>\n",
              "      <th>M</th>\n",
              "      <th>Single</th>\n",
              "      <th>Franklin</th>\n",
              "      <th>Lebanon</th>\n",
              "      <th>Springfield</th>\n",
              "      <th>Washington</th>\n",
              "      <th>Human Resource Management</th>\n",
              "      <th>IT</th>\n",
              "      <th>Logistics</th>\n",
              "      <th>Marketing</th>\n",
              "      <th>Operarions</th>\n",
              "      <th>Production</th>\n",
              "      <th>Purchasing</th>\n",
              "      <th>Quality</th>\n",
              "      <th>R&amp;D</th>\n",
              "      <th>Sales</th>\n",
              "      <th>Security</th>\n",
              "      <th>Behavioral</th>\n",
              "      <th>Conceptual</th>\n",
              "      <th>Directive</th>\n",
              "      <th>type1</th>\n",
              "      <th>type2</th>\n",
              "      <th>type3</th>\n",
              "      <th>type4</th>\n",
              "    </tr>\n",
              "  </thead>\n",
              "  <tbody>\n",
              "    <tr>\n",
              "      <th>0</th>\n",
              "      <td>32.0</td>\n",
              "      <td>5</td>\n",
              "      <td>7.0</td>\n",
              "      <td>4</td>\n",
              "      <td>30</td>\n",
              "      <td>1</td>\n",
              "      <td>5</td>\n",
              "      <td>4.0</td>\n",
              "      <td>1.0</td>\n",
              "      <td>3</td>\n",
              "      <td>-0.9612</td>\n",
              "      <td>-0.4537</td>\n",
              "      <td>2.0</td>\n",
              "      <td>1</td>\n",
              "      <td>8</td>\n",
              "      <td>4</td>\n",
              "      <td>0</td>\n",
              "      <td>1</td>\n",
              "      <td>0</td>\n",
              "      <td>0</td>\n",
              "      <td>1</td>\n",
              "      <td>0</td>\n",
              "      <td>0</td>\n",
              "      <td>0</td>\n",
              "      <td>0</td>\n",
              "      <td>0</td>\n",
              "      <td>0</td>\n",
              "      <td>0</td>\n",
              "      <td>0</td>\n",
              "      <td>0</td>\n",
              "      <td>1</td>\n",
              "      <td>0</td>\n",
              "      <td>0</td>\n",
              "      <td>0</td>\n",
              "      <td>1</td>\n",
              "      <td>0</td>\n",
              "      <td>0</td>\n",
              "      <td>1</td>\n",
              "      <td>0</td>\n",
              "      <td>0</td>\n",
              "    </tr>\n",
              "    <tr>\n",
              "      <th>1</th>\n",
              "      <td>65.0</td>\n",
              "      <td>2</td>\n",
              "      <td>41.0</td>\n",
              "      <td>2</td>\n",
              "      <td>72</td>\n",
              "      <td>1</td>\n",
              "      <td>1</td>\n",
              "      <td>1.0</td>\n",
              "      <td>1.0</td>\n",
              "      <td>4</td>\n",
              "      <td>-0.9612</td>\n",
              "      <td>0.7075</td>\n",
              "      <td>1.0</td>\n",
              "      <td>2</td>\n",
              "      <td>8</td>\n",
              "      <td>2</td>\n",
              "      <td>1</td>\n",
              "      <td>1</td>\n",
              "      <td>0</td>\n",
              "      <td>1</td>\n",
              "      <td>0</td>\n",
              "      <td>0</td>\n",
              "      <td>0</td>\n",
              "      <td>1</td>\n",
              "      <td>0</td>\n",
              "      <td>0</td>\n",
              "      <td>0</td>\n",
              "      <td>0</td>\n",
              "      <td>0</td>\n",
              "      <td>0</td>\n",
              "      <td>0</td>\n",
              "      <td>0</td>\n",
              "      <td>0</td>\n",
              "      <td>0</td>\n",
              "      <td>0</td>\n",
              "      <td>1</td>\n",
              "      <td>0</td>\n",
              "      <td>1</td>\n",
              "      <td>0</td>\n",
              "      <td>0</td>\n",
              "    </tr>\n",
              "    <tr>\n",
              "      <th>2</th>\n",
              "      <td>52.0</td>\n",
              "      <td>3</td>\n",
              "      <td>21.0</td>\n",
              "      <td>3</td>\n",
              "      <td>25</td>\n",
              "      <td>0</td>\n",
              "      <td>1</td>\n",
              "      <td>8.0</td>\n",
              "      <td>1.0</td>\n",
              "      <td>4</td>\n",
              "      <td>-0.1048</td>\n",
              "      <td>0.7075</td>\n",
              "      <td>2.0</td>\n",
              "      <td>1</td>\n",
              "      <td>9</td>\n",
              "      <td>3</td>\n",
              "      <td>1</td>\n",
              "      <td>0</td>\n",
              "      <td>0</td>\n",
              "      <td>0</td>\n",
              "      <td>1</td>\n",
              "      <td>0</td>\n",
              "      <td>0</td>\n",
              "      <td>0</td>\n",
              "      <td>0</td>\n",
              "      <td>0</td>\n",
              "      <td>0</td>\n",
              "      <td>0</td>\n",
              "      <td>0</td>\n",
              "      <td>0</td>\n",
              "      <td>0</td>\n",
              "      <td>1</td>\n",
              "      <td>0</td>\n",
              "      <td>0</td>\n",
              "      <td>0</td>\n",
              "      <td>1</td>\n",
              "      <td>0</td>\n",
              "      <td>0</td>\n",
              "      <td>1</td>\n",
              "      <td>0</td>\n",
              "    </tr>\n",
              "    <tr>\n",
              "      <th>3</th>\n",
              "      <td>50.0</td>\n",
              "      <td>5</td>\n",
              "      <td>11.0</td>\n",
              "      <td>4</td>\n",
              "      <td>28</td>\n",
              "      <td>1</td>\n",
              "      <td>1</td>\n",
              "      <td>2.0</td>\n",
              "      <td>4.0</td>\n",
              "      <td>3</td>\n",
              "      <td>-0.1048</td>\n",
              "      <td>0.7075</td>\n",
              "      <td>2.0</td>\n",
              "      <td>2</td>\n",
              "      <td>8</td>\n",
              "      <td>3</td>\n",
              "      <td>1</td>\n",
              "      <td>1</td>\n",
              "      <td>0</td>\n",
              "      <td>0</td>\n",
              "      <td>0</td>\n",
              "      <td>1</td>\n",
              "      <td>0</td>\n",
              "      <td>0</td>\n",
              "      <td>0</td>\n",
              "      <td>1</td>\n",
              "      <td>0</td>\n",
              "      <td>0</td>\n",
              "      <td>0</td>\n",
              "      <td>0</td>\n",
              "      <td>0</td>\n",
              "      <td>0</td>\n",
              "      <td>0</td>\n",
              "      <td>0</td>\n",
              "      <td>0</td>\n",
              "      <td>0</td>\n",
              "      <td>0</td>\n",
              "      <td>0</td>\n",
              "      <td>0</td>\n",
              "      <td>0</td>\n",
              "    </tr>\n",
              "    <tr>\n",
              "      <th>4</th>\n",
              "      <td>44.0</td>\n",
              "      <td>3</td>\n",
              "      <td>12.0</td>\n",
              "      <td>4</td>\n",
              "      <td>47</td>\n",
              "      <td>1</td>\n",
              "      <td>3</td>\n",
              "      <td>2.0</td>\n",
              "      <td>4.0</td>\n",
              "      <td>4</td>\n",
              "      <td>1.6081</td>\n",
              "      <td>0.7075</td>\n",
              "      <td>2.0</td>\n",
              "      <td>2</td>\n",
              "      <td>7</td>\n",
              "      <td>4</td>\n",
              "      <td>0</td>\n",
              "      <td>0</td>\n",
              "      <td>1</td>\n",
              "      <td>0</td>\n",
              "      <td>0</td>\n",
              "      <td>0</td>\n",
              "      <td>0</td>\n",
              "      <td>0</td>\n",
              "      <td>0</td>\n",
              "      <td>0</td>\n",
              "      <td>0</td>\n",
              "      <td>0</td>\n",
              "      <td>0</td>\n",
              "      <td>0</td>\n",
              "      <td>1</td>\n",
              "      <td>0</td>\n",
              "      <td>0</td>\n",
              "      <td>0</td>\n",
              "      <td>1</td>\n",
              "      <td>0</td>\n",
              "      <td>0</td>\n",
              "      <td>1</td>\n",
              "      <td>0</td>\n",
              "      <td>0</td>\n",
              "    </tr>\n",
              "  </tbody>\n",
              "</table>\n",
              "</div>"
            ],
            "text/plain": [
              "    Age  Education_Level  Time_of_service  ...  type2  type3  type4\n",
              "0  32.0                5              7.0  ...      1      0      0\n",
              "1  65.0                2             41.0  ...      1      0      0\n",
              "2  52.0                3             21.0  ...      0      1      0\n",
              "3  50.0                5             11.0  ...      0      0      0\n",
              "4  44.0                3             12.0  ...      1      0      0\n",
              "\n",
              "[5 rows x 40 columns]"
            ]
          },
          "metadata": {
            "tags": []
          },
          "execution_count": 53
        }
      ]
    },
    {
      "cell_type": "code",
      "metadata": {
        "id": "5jl1Wcjd295P",
        "colab_type": "code",
        "colab": {}
      },
      "source": [
        "ss.fit(test)\n",
        "scaled_array1 = ss.transform(test)"
      ],
      "execution_count": null,
      "outputs": []
    },
    {
      "cell_type": "code",
      "metadata": {
        "id": "PQ7QOT793jSN",
        "colab_type": "code",
        "colab": {
          "base_uri": "https://localhost:8080/",
          "height": 168
        },
        "outputId": "429ce0c6-b144-4468-be13-c4d9e2eb8655"
      },
      "source": [
        "test.columns"
      ],
      "execution_count": null,
      "outputs": [
        {
          "output_type": "execute_result",
          "data": {
            "text/plain": [
              "Index(['Age', 'Education_Level', 'Time_of_service', 'Time_since_promotion',\n",
              "       'growth_rate', 'Travel_Rate', 'Post_Level', 'Pay_Scale',\n",
              "       'Work_Life_balance', 'VAR1', 'VAR2', 'VAR3', 'VAR4', 'VAR5', 'VAR6',\n",
              "       'VAR7', 'M', 'Single', 'Franklin', 'Lebanon', 'Springfield',\n",
              "       'Washington', 'Human Resource Management', 'IT', 'Logistics',\n",
              "       'Marketing', 'Operarions', 'Production', 'Purchasing', 'Quality', 'R&D',\n",
              "       'Sales', 'Security', 'Behavioral', 'Conceptual', 'Directive', 'type1',\n",
              "       'type2', 'type3', 'type4'],\n",
              "      dtype='object')"
            ]
          },
          "metadata": {
            "tags": []
          },
          "execution_count": 55
        }
      ]
    },
    {
      "cell_type": "code",
      "metadata": {
        "id": "tb3mbFfG3vG1",
        "colab_type": "code",
        "colab": {}
      },
      "source": [
        "X1 = pd.DataFrame(scaled_array1,columns=['Age', 'Education_Level', 'Time_of_service', 'Time_since_promotion',\n",
        "       'growth_rate', 'Travel_Rate', 'Post_Level', 'Pay_Scale',\n",
        "       'Work_Life_balance', 'VAR1', 'VAR2', 'VAR3', 'VAR4', 'VAR5', 'VAR6',\n",
        "       'VAR7', 'M', 'Single', 'Franklin', 'Lebanon', 'Springfield',\n",
        "       'Washington', 'Human Resource Management', 'IT', 'Logistics',\n",
        "       'Marketing', 'Operarions', 'Production', 'Purchasing', 'Quality', 'R&D',\n",
        "       'Sales', 'Security', 'Behavioral', 'Conceptual', 'Directive', 'type1',\n",
        "       'type2', 'type3', 'type4'])"
      ],
      "execution_count": null,
      "outputs": []
    },
    {
      "cell_type": "code",
      "metadata": {
        "id": "vWj4khZQ4RrA",
        "colab_type": "code",
        "colab": {}
      },
      "source": [
        "y_pred1 = lr.predict(X1)"
      ],
      "execution_count": null,
      "outputs": []
    },
    {
      "cell_type": "code",
      "metadata": {
        "id": "loST3LE842QD",
        "colab_type": "code",
        "colab": {}
      },
      "source": [
        "result = pd.DataFrame(y_pred1,ID,columns=['Attrition_rate'])"
      ],
      "execution_count": null,
      "outputs": []
    },
    {
      "cell_type": "code",
      "metadata": {
        "id": "OM7qIDAh6Dw0",
        "colab_type": "code",
        "colab": {
          "base_uri": "https://localhost:8080/",
          "height": 225
        },
        "outputId": "b799f6f7-6839-40b2-d600-80d15c18460c"
      },
      "source": [
        "result.head()"
      ],
      "execution_count": null,
      "outputs": [
        {
          "output_type": "execute_result",
          "data": {
            "text/html": [
              "<div>\n",
              "<style scoped>\n",
              "    .dataframe tbody tr th:only-of-type {\n",
              "        vertical-align: middle;\n",
              "    }\n",
              "\n",
              "    .dataframe tbody tr th {\n",
              "        vertical-align: top;\n",
              "    }\n",
              "\n",
              "    .dataframe thead th {\n",
              "        text-align: right;\n",
              "    }\n",
              "</style>\n",
              "<table border=\"1\" class=\"dataframe\">\n",
              "  <thead>\n",
              "    <tr style=\"text-align: right;\">\n",
              "      <th></th>\n",
              "      <th>Attrition_rate</th>\n",
              "    </tr>\n",
              "    <tr>\n",
              "      <th>Employee_ID</th>\n",
              "      <th></th>\n",
              "    </tr>\n",
              "  </thead>\n",
              "  <tbody>\n",
              "    <tr>\n",
              "      <th>EID_22713</th>\n",
              "      <td>0.216280</td>\n",
              "    </tr>\n",
              "    <tr>\n",
              "      <th>EID_9658</th>\n",
              "      <td>0.199078</td>\n",
              "    </tr>\n",
              "    <tr>\n",
              "      <th>EID_22203</th>\n",
              "      <td>0.181938</td>\n",
              "    </tr>\n",
              "    <tr>\n",
              "      <th>EID_7652</th>\n",
              "      <td>0.236505</td>\n",
              "    </tr>\n",
              "    <tr>\n",
              "      <th>EID_6516</th>\n",
              "      <td>0.193377</td>\n",
              "    </tr>\n",
              "  </tbody>\n",
              "</table>\n",
              "</div>"
            ],
            "text/plain": [
              "             Attrition_rate\n",
              "Employee_ID                \n",
              "EID_22713          0.216280\n",
              "EID_9658           0.199078\n",
              "EID_22203          0.181938\n",
              "EID_7652           0.236505\n",
              "EID_6516           0.193377"
            ]
          },
          "metadata": {
            "tags": []
          },
          "execution_count": 59
        }
      ]
    },
    {
      "cell_type": "code",
      "metadata": {
        "id": "-0MISfwo6FqD",
        "colab_type": "code",
        "colab": {}
      },
      "source": [
        "result.to_csv('Dataset_Employee_final.csv')"
      ],
      "execution_count": null,
      "outputs": []
    },
    {
      "cell_type": "code",
      "metadata": {
        "id": "Zaivytbv6V7F",
        "colab_type": "code",
        "colab": {}
      },
      "source": [
        ""
      ],
      "execution_count": null,
      "outputs": []
    }
  ]
}